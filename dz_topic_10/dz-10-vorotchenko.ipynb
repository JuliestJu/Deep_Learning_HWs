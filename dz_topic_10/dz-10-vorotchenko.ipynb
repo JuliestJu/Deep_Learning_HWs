{
 "cells": [
  {
   "cell_type": "code",
   "execution_count": 1,
   "metadata": {
    "_cell_guid": "b1076dfc-b9ad-4769-8c92-a6c4dae69d19",
    "_uuid": "8f2839f25d086af736a60e9eeb907d3b93b6e0e5"
   },
   "outputs": [
    {
     "name": "stderr",
     "output_type": "stream",
     "text": [
      "/opt/anaconda3/envs/dz10/lib/python3.12/site-packages/tqdm/auto.py:21: TqdmWarning: IProgress not found. Please update jupyter and ipywidgets. See https://ipywidgets.readthedocs.io/en/stable/user_install.html\n",
      "  from .autonotebook import tqdm as notebook_tqdm\n",
      "[nltk_data] Downloading package wordnet to /Users/julia/nltk_data...\n"
     ]
    },
    {
     "name": "stdout",
     "output_type": "stream",
     "text": [
      "unzip:  cannot find or open /usr/share/nltk_data/corpora/wordnet.zip, /usr/share/nltk_data/corpora/wordnet.zip.zip or /usr/share/nltk_data/corpora/wordnet.zip.ZIP.\n"
     ]
    },
    {
     "name": "stderr",
     "output_type": "stream",
     "text": [
      "[nltk_data]   Package wordnet is already up-to-date!\n",
      "[nltk_data] Downloading package omw-1.4 to /Users/julia/nltk_data...\n",
      "[nltk_data]   Package omw-1.4 is already up-to-date!\n",
      "[nltk_data] Downloading package punkt to /Users/julia/nltk_data...\n",
      "[nltk_data]   Package punkt is already up-to-date!\n",
      "[nltk_data] Downloading package punkt_tab to /Users/julia/nltk_data...\n",
      "[nltk_data]   Package punkt_tab is already up-to-date!\n"
     ]
    }
   ],
   "source": [
    "# General libraries\n",
    "import re\n",
    "import time\n",
    "\n",
    "# Data manipulation and analysis\n",
    "import pandas as pd\n",
    "import numpy as np\n",
    "\n",
    "# NLP and text processing\n",
    "import spacy\n",
    "import gensim\n",
    "from nltk.corpus import stopwords\n",
    "from nltk.tokenize import word_tokenize\n",
    "from nltk.stem import WordNetLemmatizer\n",
    "import nltk\n",
    "\n",
    "# Machine learning tools\n",
    "from sklearn.model_selection import train_test_split\n",
    "from sklearn.feature_extraction.text import CountVectorizer, TfidfVectorizer\n",
    "from sklearn.linear_model import LogisticRegression\n",
    "from sklearn.metrics import accuracy_score, roc_auc_score\n",
    "\n",
    "# Progress bar for loops\n",
    "from tqdm.auto import tqdm\n",
    "\n",
    "# Download NLTK resources\n",
    "nltk.download('wordnet')\n",
    "nltk.download('omw-1.4')\n",
    "nltk.download('punkt')\n",
    "nltk.download('punkt_tab')\n",
    "! unzip /usr/share/nltk_data/corpora/wordnet.zip -d /usr/share/nltk_data/corpora/"
   ]
  },
  {
   "cell_type": "code",
   "execution_count": 2,
   "metadata": {},
   "outputs": [
    {
     "name": "stdout",
     "output_type": "stream",
     "text": [
      "<class 'pandas.core.frame.DataFrame'>\n",
      "RangeIndex: 5572 entries, 0 to 5571\n",
      "Data columns (total 5 columns):\n",
      " #   Column      Non-Null Count  Dtype \n",
      "---  ------      --------------  ----- \n",
      " 0   v1          5572 non-null   object\n",
      " 1   v2          5572 non-null   object\n",
      " 2   Unnamed: 2  50 non-null     object\n",
      " 3   Unnamed: 3  12 non-null     object\n",
      " 4   Unnamed: 4  6 non-null      object\n",
      "dtypes: object(5)\n",
      "memory usage: 217.8+ KB\n"
     ]
    },
    {
     "data": {
      "text/html": [
       "<div>\n",
       "<style scoped>\n",
       "    .dataframe tbody tr th:only-of-type {\n",
       "        vertical-align: middle;\n",
       "    }\n",
       "\n",
       "    .dataframe tbody tr th {\n",
       "        vertical-align: top;\n",
       "    }\n",
       "\n",
       "    .dataframe thead th {\n",
       "        text-align: right;\n",
       "    }\n",
       "</style>\n",
       "<table border=\"1\" class=\"dataframe\">\n",
       "  <thead>\n",
       "    <tr style=\"text-align: right;\">\n",
       "      <th></th>\n",
       "      <th>v1</th>\n",
       "      <th>v2</th>\n",
       "      <th>Unnamed: 2</th>\n",
       "      <th>Unnamed: 3</th>\n",
       "      <th>Unnamed: 4</th>\n",
       "    </tr>\n",
       "  </thead>\n",
       "  <tbody>\n",
       "    <tr>\n",
       "      <th>0</th>\n",
       "      <td>ham</td>\n",
       "      <td>Go until jurong point, crazy.. Available only ...</td>\n",
       "      <td>NaN</td>\n",
       "      <td>NaN</td>\n",
       "      <td>NaN</td>\n",
       "    </tr>\n",
       "    <tr>\n",
       "      <th>1</th>\n",
       "      <td>ham</td>\n",
       "      <td>Ok lar... Joking wif u oni...</td>\n",
       "      <td>NaN</td>\n",
       "      <td>NaN</td>\n",
       "      <td>NaN</td>\n",
       "    </tr>\n",
       "    <tr>\n",
       "      <th>2</th>\n",
       "      <td>spam</td>\n",
       "      <td>Free entry in 2 a wkly comp to win FA Cup fina...</td>\n",
       "      <td>NaN</td>\n",
       "      <td>NaN</td>\n",
       "      <td>NaN</td>\n",
       "    </tr>\n",
       "    <tr>\n",
       "      <th>3</th>\n",
       "      <td>ham</td>\n",
       "      <td>U dun say so early hor... U c already then say...</td>\n",
       "      <td>NaN</td>\n",
       "      <td>NaN</td>\n",
       "      <td>NaN</td>\n",
       "    </tr>\n",
       "    <tr>\n",
       "      <th>4</th>\n",
       "      <td>ham</td>\n",
       "      <td>Nah I don't think he goes to usf, he lives aro...</td>\n",
       "      <td>NaN</td>\n",
       "      <td>NaN</td>\n",
       "      <td>NaN</td>\n",
       "    </tr>\n",
       "  </tbody>\n",
       "</table>\n",
       "</div>"
      ],
      "text/plain": [
       "     v1                                                 v2 Unnamed: 2  \\\n",
       "0   ham  Go until jurong point, crazy.. Available only ...        NaN   \n",
       "1   ham                      Ok lar... Joking wif u oni...        NaN   \n",
       "2  spam  Free entry in 2 a wkly comp to win FA Cup fina...        NaN   \n",
       "3   ham  U dun say so early hor... U c already then say...        NaN   \n",
       "4   ham  Nah I don't think he goes to usf, he lives aro...        NaN   \n",
       "\n",
       "  Unnamed: 3 Unnamed: 4  \n",
       "0        NaN        NaN  \n",
       "1        NaN        NaN  \n",
       "2        NaN        NaN  \n",
       "3        NaN        NaN  \n",
       "4        NaN        NaN  "
      ]
     },
     "execution_count": 2,
     "metadata": {},
     "output_type": "execute_result"
    }
   ],
   "source": [
    "data = pd.read_csv('spam.csv', encoding = \"ISO-8859-1\")\n",
    "data.info()\n",
    "data.head()"
   ]
  },
  {
   "cell_type": "code",
   "execution_count": 3,
   "metadata": {},
   "outputs": [
    {
     "name": "stdout",
     "output_type": "stream",
     "text": [
      "                                                 text  spam_ham\n",
      "0   Go until jurong point, crazy.. Available only ...         0\n",
      "1                    Ok lar... Joking wif u oni...            0\n",
      "2   Free entry in 2 a wkly comp to win FA Cup fina...         1\n",
      "3   U dun say so early hor... U c already then say...         0\n",
      "4   Nah I don't think he goes to usf, he lives aro...         0\n",
      "5   FreeMsg Hey there darling it's been 3 week's n...         1\n",
      "6   Even my brother is not like to speak with me. ...         0\n",
      "7   As per your request 'Melle Melle (Oru Minnamin...         0\n",
      "8   WINNER!! As a valued network customer you have...         1\n",
      "9   Had your mobile 11 months or more? U R entitle...         1\n",
      "10  I'm gonna be home soon and i don't want to tal...         0\n",
      "11  SIX chances to win CASH! From 100 to 20,000 po...         1\n",
      "12  URGENT! You have won a 1 week FREE membership ...         1\n",
      "13  I've been searching for the right words to tha...         0\n",
      "14             I HAVE A DATE ON SUNDAY WITH WILL!!            0\n"
     ]
    }
   ],
   "source": [
    "columns_to_concat = ['v2', 'Unnamed: 2', 'Unnamed: 3', 'Unnamed: 4']\n",
    "data['text'] = data[columns_to_concat].fillna('').astype(str).agg(' '.join, axis=1)\n",
    "\n",
    "data['spam_ham'] = np.where(data['v1'] == 'spam', 1, 0)\n",
    "\n",
    "data = data.drop(columns=['v1', 'v2', 'Unnamed: 2', 'Unnamed: 3', 'Unnamed: 4'])\n",
    "print(data.head(15))"
   ]
  },
  {
   "cell_type": "code",
   "execution_count": 4,
   "metadata": {},
   "outputs": [],
   "source": [
    "nlp = spacy.load(\"en_core_web_sm\")\n",
    "stop_words = set(stopwords.words('english'))\n",
    "contractions = {\n",
    "    \"can't\": \"cannot\",\n",
    "    \"won't\": \"will not\",\n",
    "    \"it's\": \"it is\",\n",
    "    \"i'm\": \"i am\",\n",
    "    \"he's\": \"he is\",\n",
    "    \"she's\": \"she is\",\n",
    "    \"they're\": \"they are\",\n",
    "    \"we're\": \"we are\",\n",
    "    \"you've\": \"you have\",\n",
    "    \"i've\": \"i have\",\n",
    "    \"don't\": \"do not\",\n",
    "    \"didn't\": \"did not\",\n",
    "    \"isn't\": \"is not\",\n",
    "    \"aren't\": \"are not\",\n",
    "    \"wasn't\": \"was not\",\n",
    "    \"weren't\": \"were not\",\n",
    "    \"there's\": \"there is\",\n",
    "    \"that's\": \"that is\",\n",
    "}\n",
    "\n",
    "def preprocess_text(text):\n",
    "    text = re.sub(r\"<[^>]*>\", \" \", text)\n",
    "    text = re.sub(r\"\\S*@\\S*\\s+\", \" \", text)\n",
    "    text = re.sub(r\"https?:\\/\\/.*?\\s+\", \" \", text)\n",
    "    text = text.lower()\n",
    "    text = \" \".join([contractions.get(word, word) for word in text.split()])\n",
    "    \n",
    "    tokens = word_tokenize(text)\n",
    "    tokens = [word for word in tokens if word not in stop_words]\n",
    "    \n",
    "    text = \" \".join(tokens)\n",
    "    text = re.sub(r\"[^a-zA-Z' ]\", \"\", text)\n",
    "    \n",
    "    doc = nlp(text)\n",
    "    text = \" \".join([token.lemma_ for token in doc if len(token.lemma_) > 1])\n",
    "    text = re.sub(r\"\\s+\", \" \", text).strip()\n",
    "\n",
    "    return text\n"
   ]
  },
  {
   "cell_type": "code",
   "execution_count": 5,
   "metadata": {},
   "outputs": [
    {
     "name": "stdout",
     "output_type": "stream",
     "text": [
      "Training set size: 4457\n",
      "Validation set size: 1115\n"
     ]
    }
   ],
   "source": [
    "data['cleaned_text'] = data['text'].apply(preprocess_text)\n",
    "\n",
    "data = data.drop(columns=['text'])\n",
    "\n",
    "X = data['cleaned_text']\n",
    "y = data['spam_ham']\n",
    "\n",
    "X_train, X_val, y_train, y_val = train_test_split(X, y, test_size=0.2, stratify=y, random_state=42)\n",
    "\n",
    "print(f\"Training set size: {X_train.shape[0]}\")\n",
    "print(f\"Validation set size: {X_val.shape[0]}\")"
   ]
  },
  {
   "cell_type": "code",
   "execution_count": 6,
   "metadata": {},
   "outputs": [
    {
     "name": "stdout",
     "output_type": "stream",
     "text": [
      "BoW матриця для навчального набору: (4457, 1000)\n",
      "BoW матриця для валідаційного набору: (1115, 1000)\n"
     ]
    }
   ],
   "source": [
    "vectorizer_bow = CountVectorizer(max_features=1000, ngram_range=(1, 2), stop_words='english')\n",
    "\n",
    "X_train_bow = vectorizer_bow.fit_transform(X_train)\n",
    "X_val_bow = vectorizer_bow.transform(X_val)\n",
    "\n",
    "print(\"BoW матриця для навчального набору:\", X_train_bow.shape)\n",
    "print(\"BoW матриця для валідаційного набору:\", X_val_bow.shape)"
   ]
  },
  {
   "cell_type": "code",
   "execution_count": 7,
   "metadata": {},
   "outputs": [
    {
     "name": "stdout",
     "output_type": "stream",
     "text": [
      "TF-IDF матриця для навчального набору: (4457, 1000)\n",
      "TF-IDF матриця для валідаційного набору: (1115, 1000)\n"
     ]
    }
   ],
   "source": [
    "vectorizer_tfidf = TfidfVectorizer(max_features=1000, ngram_range=(1, 2), stop_words='english')\n",
    "\n",
    "X_train_tfidf = vectorizer_tfidf.fit_transform(X_train)\n",
    "X_val_tfidf = vectorizer_tfidf.transform(X_val)\n",
    "\n",
    "print(\"TF-IDF матриця для навчального набору:\", X_train_tfidf.shape)\n",
    "print(\"TF-IDF матриця для валідаційного набору:\", X_val_tfidf.shape)"
   ]
  },
  {
   "cell_type": "code",
   "execution_count": 8,
   "metadata": {},
   "outputs": [],
   "source": [
    "word2vec_file_path = 'embeddings/wiki.simple.vec'\n",
    "fasttext_file_path = 'embeddings/GoogleNews-vectors-negative300.bin'\n",
    "glove_file_path = 'embeddings/glove.6B.300d.txt'"
   ]
  },
  {
   "cell_type": "code",
   "execution_count": 9,
   "metadata": {},
   "outputs": [],
   "source": [
    "def load_word2vec_model(file_path, binary=False):\n",
    "    print(f\"Loading model from: {file_path}\")\n",
    "    return gensim.models.KeyedVectors.load_word2vec_format(file_path, binary=binary)\n",
    "\n",
    "def load_glove_model(file_path):\n",
    "    print(f\"Loading GloVe embeddings from: {file_path}\")\n",
    "    glove_model = {}\n",
    "    with open(file_path, 'r', encoding='utf-8') as f:\n",
    "        for line in f:\n",
    "            values = line.split()\n",
    "            word = values[0]\n",
    "            vector = np.asarray(values[1:], dtype='float32')\n",
    "            glove_model[word] = vector\n",
    "    print(f\"Loaded {len(glove_model)} words from GloVe embeddings.\")\n",
    "    return glove_model\n",
    "\n",
    "def get_embeddings(texts, model, vector_size, model_type=\"word2vec\"):\n",
    "    embeddings = []\n",
    "    for text in texts:\n",
    "        words = text.split()\n",
    "        if model_type == \"glove\":\n",
    "            word_vectors = [model[word] for word in words if word in model]\n",
    "        else:\n",
    "            word_vectors = [model[word] for word in words if word in model.key_to_index]\n",
    "\n",
    "        if word_vectors:\n",
    "            embeddings.append(np.mean(word_vectors, axis=0))\n",
    "        else:\n",
    "            embeddings.append(np.zeros(vector_size))\n",
    "    return np.array(embeddings)"
   ]
  },
  {
   "cell_type": "code",
   "execution_count": null,
   "metadata": {},
   "outputs": [],
   "source": []
  },
  {
   "cell_type": "code",
   "execution_count": 10,
   "metadata": {},
   "outputs": [
    {
     "name": "stdout",
     "output_type": "stream",
     "text": [
      "Loading model from: embeddings/wiki.simple.vec\n",
      "Loading GloVe embeddings from: embeddings/glove.6B.300d.txt\n",
      "Loaded 400000 words from GloVe embeddings.\n",
      "Loading model from: embeddings/GoogleNews-vectors-negative300.bin\n"
     ]
    }
   ],
   "source": [
    "word2vec_model = load_word2vec_model(word2vec_file_path, binary=False)\n",
    "glove_model = load_glove_model(glove_file_path)\n",
    "fasttext_model = load_word2vec_model(fasttext_file_path, binary=True)"
   ]
  },
  {
   "cell_type": "code",
   "execution_count": 11,
   "metadata": {},
   "outputs": [
    {
     "name": "stdout",
     "output_type": "stream",
     "text": [
      "Generating Word2Vec embeddings...\n",
      "Generating GloVe embeddings...\n",
      "Generating FastText embeddings...\n",
      "Word2Vec training embeddings shape: (4457, 300)\n",
      "Word2Vec validation embeddings shape: (1115, 300)\n",
      "GloVe training embeddings shape: (4457, 300)\n",
      "GloVe validation embeddings shape: (1115, 300)\n",
      "FastText training embeddings shape: (4457, 300)\n",
      "FastText validation embeddings shape: (1115, 300)\n"
     ]
    }
   ],
   "source": [
    "print(\"Generating Word2Vec embeddings...\")\n",
    "X_train_embed_Word2Vec = get_embeddings(X_train, word2vec_model, vector_size=300, model_type=\"word2vec\")\n",
    "X_val_embed_Word2Vec = get_embeddings(X_val, word2vec_model, vector_size=300, model_type=\"word2vec\")\n",
    "\n",
    "print(\"Generating GloVe embeddings...\")\n",
    "X_train_embed_GloVe = get_embeddings(X_train, glove_model, vector_size=300, model_type=\"glove\")\n",
    "X_val_embed_GloVe = get_embeddings(X_val, glove_model, vector_size=300, model_type=\"glove\")\n",
    "\n",
    "print(\"Generating FastText embeddings...\")\n",
    "X_train_embed_FastText = get_embeddings(X_train, fasttext_model, vector_size=300, model_type=\"fasttext\")\n",
    "X_val_embed_FastText = get_embeddings(X_val, fasttext_model, vector_size=300, model_type=\"fasttext\")\n",
    "\n",
    "print(\"Word2Vec training embeddings shape:\", X_train_embed_Word2Vec.shape)\n",
    "print(\"Word2Vec validation embeddings shape:\", X_val_embed_Word2Vec.shape)\n",
    "print(\"GloVe training embeddings shape:\", X_train_embed_GloVe.shape)\n",
    "print(\"GloVe validation embeddings shape:\", X_val_embed_GloVe.shape)\n",
    "print(\"FastText training embeddings shape:\", X_train_embed_FastText.shape)\n",
    "print(\"FastText validation embeddings shape:\", X_val_embed_FastText.shape)"
   ]
  },
  {
   "cell_type": "code",
   "execution_count": null,
   "metadata": {},
   "outputs": [],
   "source": []
  },
  {
   "cell_type": "code",
   "execution_count": null,
   "metadata": {},
   "outputs": [],
   "source": []
  }
 ],
 "metadata": {
  "kaggle": {
   "accelerator": "none",
   "dataSources": [
    {
     "databundleVersionId": 3285917,
     "datasetId": 1961542,
     "sourceId": 3235802,
     "sourceType": "datasetVersion"
    },
    {
     "databundleVersionId": 11683,
     "datasetId": 8352,
     "sourceId": 11683,
     "sourceType": "datasetVersion"
    },
    {
     "databundleVersionId": 8240,
     "datasetId": 5504,
     "sourceId": 8240,
     "sourceType": "datasetVersion"
    },
    {
     "databundleVersionId": 2668532,
     "datasetId": 1595713,
     "sourceId": 2624724,
     "sourceType": "datasetVersion"
    }
   ],
   "dockerImageVersionId": 30786,
   "isGpuEnabled": false,
   "isInternetEnabled": true,
   "language": "python",
   "sourceType": "notebook"
  },
  "kernelspec": {
   "display_name": "Python (dz10)",
   "language": "python",
   "name": "dz10"
  },
  "language_info": {
   "codemirror_mode": {
    "name": "ipython",
    "version": 3
   },
   "file_extension": ".py",
   "mimetype": "text/x-python",
   "name": "python",
   "nbconvert_exporter": "python",
   "pygments_lexer": "ipython3",
   "version": "3.12.7"
  }
 },
 "nbformat": 4,
 "nbformat_minor": 4
}
