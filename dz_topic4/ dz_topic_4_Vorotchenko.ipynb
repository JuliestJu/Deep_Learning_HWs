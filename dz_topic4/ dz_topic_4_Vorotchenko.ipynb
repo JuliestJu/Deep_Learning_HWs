{
 "cells": [
  {
   "cell_type": "code",
   "execution_count": 1,
   "id": "47870797-07fb-43be-8a90-8df2a05c7bea",
   "metadata": {
    "scrolled": true
   },
   "outputs": [
    {
     "name": "stdout",
     "output_type": "stream",
     "text": [
      "Requirement already satisfied: ydata_profiling in /opt/anaconda3/lib/python3.12/site-packages (4.12.0)\n",
      "Requirement already satisfied: scipy<1.14,>=1.4.1 in /opt/anaconda3/lib/python3.12/site-packages (from ydata_profiling) (1.13.1)\n",
      "Requirement already satisfied: pandas!=1.4.0,<3,>1.1 in /opt/anaconda3/lib/python3.12/site-packages (from ydata_profiling) (2.2.2)\n",
      "Requirement already satisfied: matplotlib<3.10,>=3.5 in /opt/anaconda3/lib/python3.12/site-packages (from ydata_profiling) (3.8.4)\n",
      "Requirement already satisfied: pydantic>=2 in /opt/anaconda3/lib/python3.12/site-packages (from ydata_profiling) (2.5.3)\n",
      "Requirement already satisfied: PyYAML<6.1,>=5.0.0 in /opt/anaconda3/lib/python3.12/site-packages (from ydata_profiling) (6.0.1)\n",
      "Requirement already satisfied: jinja2<3.2,>=2.11.1 in /opt/anaconda3/lib/python3.12/site-packages (from ydata_profiling) (3.1.4)\n",
      "Requirement already satisfied: visions<0.7.7,>=0.7.5 in /opt/anaconda3/lib/python3.12/site-packages (from visions[type_image_path]<0.7.7,>=0.7.5->ydata_profiling) (0.7.6)\n",
      "Requirement already satisfied: numpy<2.2,>=1.16.0 in /opt/anaconda3/lib/python3.12/site-packages (from ydata_profiling) (1.26.4)\n",
      "Requirement already satisfied: htmlmin==0.1.12 in /opt/anaconda3/lib/python3.12/site-packages (from ydata_profiling) (0.1.12)\n",
      "Requirement already satisfied: phik<0.13,>=0.11.1 in /opt/anaconda3/lib/python3.12/site-packages (from ydata_profiling) (0.12.4)\n",
      "Requirement already satisfied: requests<3,>=2.24.0 in /opt/anaconda3/lib/python3.12/site-packages (from ydata_profiling) (2.32.2)\n",
      "Requirement already satisfied: tqdm<5,>=4.48.2 in /opt/anaconda3/lib/python3.12/site-packages (from ydata_profiling) (4.66.4)\n",
      "Requirement already satisfied: seaborn<0.14,>=0.10.1 in /opt/anaconda3/lib/python3.12/site-packages (from ydata_profiling) (0.13.2)\n",
      "Requirement already satisfied: multimethod<2,>=1.4 in /opt/anaconda3/lib/python3.12/site-packages (from ydata_profiling) (1.12)\n",
      "Requirement already satisfied: statsmodels<1,>=0.13.2 in /opt/anaconda3/lib/python3.12/site-packages (from ydata_profiling) (0.14.2)\n",
      "Requirement already satisfied: typeguard<5,>=3 in /opt/anaconda3/lib/python3.12/site-packages (from ydata_profiling) (4.4.1)\n",
      "Requirement already satisfied: imagehash==4.3.1 in /opt/anaconda3/lib/python3.12/site-packages (from ydata_profiling) (4.3.1)\n",
      "Requirement already satisfied: wordcloud>=1.9.3 in /opt/anaconda3/lib/python3.12/site-packages (from ydata_profiling) (1.9.4)\n",
      "Requirement already satisfied: dacite>=1.8 in /opt/anaconda3/lib/python3.12/site-packages (from ydata_profiling) (1.8.1)\n",
      "Requirement already satisfied: numba<1,>=0.56.0 in /opt/anaconda3/lib/python3.12/site-packages (from ydata_profiling) (0.59.1)\n",
      "Requirement already satisfied: PyWavelets in /opt/anaconda3/lib/python3.12/site-packages (from imagehash==4.3.1->ydata_profiling) (1.5.0)\n",
      "Requirement already satisfied: pillow in /opt/anaconda3/lib/python3.12/site-packages (from imagehash==4.3.1->ydata_profiling) (10.3.0)\n",
      "Requirement already satisfied: MarkupSafe>=2.0 in /opt/anaconda3/lib/python3.12/site-packages (from jinja2<3.2,>=2.11.1->ydata_profiling) (2.1.3)\n",
      "Requirement already satisfied: contourpy>=1.0.1 in /opt/anaconda3/lib/python3.12/site-packages (from matplotlib<3.10,>=3.5->ydata_profiling) (1.2.0)\n",
      "Requirement already satisfied: cycler>=0.10 in /opt/anaconda3/lib/python3.12/site-packages (from matplotlib<3.10,>=3.5->ydata_profiling) (0.11.0)\n",
      "Requirement already satisfied: fonttools>=4.22.0 in /opt/anaconda3/lib/python3.12/site-packages (from matplotlib<3.10,>=3.5->ydata_profiling) (4.51.0)\n",
      "Requirement already satisfied: kiwisolver>=1.3.1 in /opt/anaconda3/lib/python3.12/site-packages (from matplotlib<3.10,>=3.5->ydata_profiling) (1.4.4)\n",
      "Requirement already satisfied: packaging>=20.0 in /opt/anaconda3/lib/python3.12/site-packages (from matplotlib<3.10,>=3.5->ydata_profiling) (23.2)\n",
      "Requirement already satisfied: pyparsing>=2.3.1 in /opt/anaconda3/lib/python3.12/site-packages (from matplotlib<3.10,>=3.5->ydata_profiling) (3.0.9)\n",
      "Requirement already satisfied: python-dateutil>=2.7 in /opt/anaconda3/lib/python3.12/site-packages (from matplotlib<3.10,>=3.5->ydata_profiling) (2.9.0.post0)\n",
      "Requirement already satisfied: llvmlite<0.43,>=0.42.0dev0 in /opt/anaconda3/lib/python3.12/site-packages (from numba<1,>=0.56.0->ydata_profiling) (0.42.0)\n",
      "Requirement already satisfied: pytz>=2020.1 in /opt/anaconda3/lib/python3.12/site-packages (from pandas!=1.4.0,<3,>1.1->ydata_profiling) (2024.1)\n",
      "Requirement already satisfied: tzdata>=2022.7 in /opt/anaconda3/lib/python3.12/site-packages (from pandas!=1.4.0,<3,>1.1->ydata_profiling) (2023.3)\n",
      "Requirement already satisfied: joblib>=0.14.1 in /opt/anaconda3/lib/python3.12/site-packages (from phik<0.13,>=0.11.1->ydata_profiling) (1.4.2)\n",
      "Requirement already satisfied: annotated-types>=0.4.0 in /opt/anaconda3/lib/python3.12/site-packages (from pydantic>=2->ydata_profiling) (0.6.0)\n",
      "Requirement already satisfied: pydantic-core==2.14.6 in /opt/anaconda3/lib/python3.12/site-packages (from pydantic>=2->ydata_profiling) (2.14.6)\n",
      "Requirement already satisfied: typing-extensions>=4.6.1 in /opt/anaconda3/lib/python3.12/site-packages (from pydantic>=2->ydata_profiling) (4.11.0)\n",
      "Requirement already satisfied: charset-normalizer<4,>=2 in /opt/anaconda3/lib/python3.12/site-packages (from requests<3,>=2.24.0->ydata_profiling) (2.0.4)\n",
      "Requirement already satisfied: idna<4,>=2.5 in /opt/anaconda3/lib/python3.12/site-packages (from requests<3,>=2.24.0->ydata_profiling) (3.7)\n",
      "Requirement already satisfied: urllib3<3,>=1.21.1 in /opt/anaconda3/lib/python3.12/site-packages (from requests<3,>=2.24.0->ydata_profiling) (2.2.2)\n",
      "Requirement already satisfied: certifi>=2017.4.17 in /opt/anaconda3/lib/python3.12/site-packages (from requests<3,>=2.24.0->ydata_profiling) (2024.8.30)\n",
      "Requirement already satisfied: patsy>=0.5.6 in /opt/anaconda3/lib/python3.12/site-packages (from statsmodels<1,>=0.13.2->ydata_profiling) (0.5.6)\n",
      "Requirement already satisfied: attrs>=19.3.0 in /opt/anaconda3/lib/python3.12/site-packages (from visions<0.7.7,>=0.7.5->visions[type_image_path]<0.7.7,>=0.7.5->ydata_profiling) (23.1.0)\n",
      "Requirement already satisfied: networkx>=2.4 in /opt/anaconda3/lib/python3.12/site-packages (from visions<0.7.7,>=0.7.5->visions[type_image_path]<0.7.7,>=0.7.5->ydata_profiling) (3.2.1)\n",
      "Requirement already satisfied: six in /opt/anaconda3/lib/python3.12/site-packages (from patsy>=0.5.6->statsmodels<1,>=0.13.2->ydata_profiling) (1.16.0)\n"
     ]
    }
   ],
   "source": [
    "!pip install ydata_profiling\n",
    "from dataclasses import dataclass\n",
    "from sklearn.preprocessing import scale\n",
    "\n",
    "import pandas as pd\n",
    "import numpy as np\n",
    "\n",
    "from sklearn.impute import SimpleImputer\n",
    "from sklearn.preprocessing import TargetEncoder, StandardScaler, LabelEncoder\n",
    "from sklearn.metrics import root_mean_squared_error as RMSE\n",
    "from sklearn.metrics import accuracy_score\n",
    "from sklearn.model_selection import train_test_split\n",
    "\n",
    "import torch\n",
    "from torch import nn \n",
    "from torch.utils.data import Dataset, DataLoader, TensorDataset\n",
    "from sklearn.metrics import mean_squared_error, mean_absolute_error, r2_score\n",
    "from sklearn.model_selection import train_test_split\n",
    "from sklearn.preprocessing import StandardScaler\n",
    "import pandas as pd\n",
    "\n",
    "import matplotlib.pyplot as plt\n",
    "import seaborn as sns\n",
    "from scipy.stats import probplot\n",
    "\n",
    "from ydata_profiling import ProfileReport\n",
    "from helpers import *\n",
    "\n",
    "%matplotlib inline"
   ]
  },
  {
   "cell_type": "markdown",
   "id": "25f9ab14-c515-4c72-893a-28f6df9479b8",
   "metadata": {},
   "source": [
    "# Exploratory Data Analysis"
   ]
  },
  {
   "cell_type": "code",
   "execution_count": 2,
   "id": "d98c8f54-3f6a-488c-abb5-de411b198745",
   "metadata": {},
   "outputs": [],
   "source": [
    "data = pd.read_csv('ConcreteStrengthData.csv')\n",
    "data.columns = data.columns.str.strip()"
   ]
  },
  {
   "cell_type": "markdown",
   "id": "70d90ce5-54a4-4f30-8145-5814c28f0a7d",
   "metadata": {},
   "source": [
    "Опис полів:\n",
    "\n",
    "- **CementComponent**: Кількість цементу\n",
    "- **BlastFurnaceSlag**: Кількість шлаку з доменної печі\n",
    "- **FlyAshComponent**: Кількість леткої золи\n",
    "- **WaterComponent**: Кількість води\n",
    "- **SuperplasticizerComponent**: Кількість суперпластифікатора\n",
    "- **CoarseAggregateComponent**: Кількість крупного заповнювача\n",
    "- **FineAggregateComponent**: Кількість дрібного заповнювача\n",
    "- **AgeInDays**: Скільки днів бетон залишали сохнути\n",
    "- **Strength**: Яка була кінцева міцність бетону (цільовий показник)"
   ]
  },
  {
   "cell_type": "code",
   "execution_count": 3,
   "id": "5452f6c5-5ab4-491a-a7ea-774791635aeb",
   "metadata": {},
   "outputs": [],
   "source": [
    "data.drop_duplicates(inplace=True)\n",
    "data.columns = data.columns.str.strip()"
   ]
  },
  {
   "cell_type": "code",
   "execution_count": 4,
   "id": "14c9eac0-207c-47c0-8e65-7bd28cf45dec",
   "metadata": {
    "scrolled": true
   },
   "outputs": [],
   "source": [
    "# features = list(data.columns)\n",
    "# fig, axes = plt.subplots(len(features), 3, figsize=(20, 45))\n",
    "\n",
    "# for f, (ax1, ax2, ax3) in enumerate(axes):\n",
    "#     sns.histplot(data[features[f]], ax=ax1, color='orange')\n",
    "#     sns.kdeplot(data[features[f]], ax=ax1, color='black')\n",
    "#     sns.boxplot(x=data[features[f]], ax=ax2, color='lightblue')\n",
    "#     probplot(data[features[f]], plot=ax3)\n",
    "\n",
    "# fig.suptitle('Data Distribution in Training Set', fontsize=18, fontweight='bold', y=1)\n",
    "# plt.tight_layout()\n",
    "# # plt.savefig(\"plot.png\", format=\"png\", dpi=300, bbox_inches=\"tight\")\n",
    "# plt.show()"
   ]
  },
  {
   "cell_type": "code",
   "execution_count": 5,
   "id": "3e29fe3c-4af8-453b-a286-92a8b51af1af",
   "metadata": {
    "scrolled": true
   },
   "outputs": [],
   "source": [
    "# features = set(data.columns)\n",
    "# features = list(features)\n",
    "# fig, axes = plt.subplots(len(features)//3+1,3,figsize=(20,15))\n",
    "\n",
    "# f = 0\n",
    "# for axs in axes:\n",
    "#     for ax in axs:\n",
    "#         if f == len(features): break\n",
    "#         sns.regplot(x=features[f],y='Strength',data=data,color='#E4E9CE',line_kws={'color':'green'},ax=ax)\n",
    "#         f += 1\n",
    "\n",
    "# fig.suptitle('Direct Relationship of Each Features and Target',y=0.95,fontsize=22,fontweight='bold')\n",
    "# plt.savefig(\"Direct.png\", format=\"png\", dpi=300, bbox_inches=\"tight\")\n",
    "# plt.show()"
   ]
  },
  {
   "cell_type": "markdown",
   "id": "3d26698b-914c-4466-8baf-856b43e4072b",
   "metadata": {
    "jp-MarkdownHeadingCollapsed": true
   },
   "source": [
    "- **Позитивно корельовані ознаки**: `CementComponent`, `AgeInDays`, `FlyAshComponent`, `SuperplasticizerComponent`, `BlastFurnaceSlag`. Ці ознаки показують, що їх збільшення може призвести до підвищення міцності.\n",
    "- **Негативно корельовані ознаки**: `WaterComponent`, `FineAggregateComponent`, `CoarseAggregateComponent`. Ці ознаки вказують на можливе зниження міцності при збільшенні їхньої кількості.\n",
    "\n",
    "Загалом, `CementComponent` та `AgeInDays` є найбільш значущими у підвищенні міцності, тоді як велика кількість води і дрібного заповнювача можуть мати негативний ефект."
   ]
  },
  {
   "cell_type": "code",
   "execution_count": 6,
   "id": "8e91c802-ca95-4205-8a63-714dc401ff0e",
   "metadata": {
    "scrolled": true
   },
   "outputs": [],
   "source": [
    "# fig, axes = plt.subplots(len(features)//3+1,3,figsize=(20,15))\n",
    "\n",
    "# f = 0\n",
    "# for axs in axes:\n",
    "#     for ax in axs:\n",
    "#         if f == len(features): break\n",
    "#         sns.boxplot(x=features[f],y='Strength',data=data,ax=ax)\n",
    "#         f += 1\n",
    "\n",
    "# fig.suptitle('Direct Relationship of Each Features and Target',y=0.95,fontsize=22,fontweight='bold') \n",
    "# plt.show()"
   ]
  },
  {
   "cell_type": "markdown",
   "id": "9208b542-741e-45b8-8d25-e64bc61c526d",
   "metadata": {},
   "source": [
    "Цей графік відображає взаємозв'язок між кожною ознакою та цільовою змінною `Strength` (міцність) у цьому наборі даних. Основні спостереження:\n",
    "\n",
    "- **AgeInDays**: Помітна позитивна залежність – зі збільшенням віку матеріалу міцність зростає. Це відповідає очікуванням, оскільки матеріал твердне з часом.\n",
    "- **CementComponent**: Спостерігається слабка позитивна кореляція – більший вміст цементу зазвичай пов'язаний із вищою міцністю, що логічно, оскільки цемент зміцнює структуру.\n",
    "- **WaterComponent**: Ледь виражена негативна тенденція, де надмірна кількість води може знижувати міцність через пористість.\n",
    "- **Інші компоненти (SuperplasticizerComponent, FlyAshComponent, FineAggregateComponent, CoarseAggregateComponent, BlastFurnaceSlag)**: Ці ознаки не мають сильної кореляції з міцністю, проте присутні деякі варіації та викиди.\n",
    "\n",
    "Загалом, `AgeInDays` та `CementComponent` є ключовими факторами, що позитивно впливають на міцність, тоді як збільшення вмісту води може мати негативний ефект."
   ]
  },
  {
   "cell_type": "markdown",
   "id": "f09b0b08-c44a-4cf0-b6d0-9f8b0cb3f1bf",
   "metadata": {},
   "source": [
    "Ми застосовуємо вінзоризацію до `SuperplasticizerComponent`, `AgeInDays` та `WaterComponent`, щоб зменшити вплив екстремальних викидів. Ці ознаки мають асиметричний розподіл із дуже високими або низькими значеннями, які можуть спотворити аналіз або знизити продуктивність моделі. Вінзоризація обрізає ці екстремальні значення, щоб зменшити асиметрію, зробити дані більш стійкими та покращити стабільність моделі без втрати важливої інформації з набору даних."
   ]
  },
  {
   "cell_type": "code",
   "execution_count": 7,
   "id": "abfc4abb-83a2-4f69-b80d-b7e5f10e54cb",
   "metadata": {},
   "outputs": [],
   "source": [
    "data_w = data.copy()\n",
    "for col in data_w.columns:\n",
    "    if col in ['SuperplasticizerComponent','AgeInDays','WaterComponent']:\n",
    "        data_w = winsorize(data_w,col,97.5,0.025)"
   ]
  },
  {
   "cell_type": "code",
   "execution_count": 8,
   "id": "e3f2af98-3101-4f48-8a3c-813bbb6beee6",
   "metadata": {},
   "outputs": [],
   "source": [
    "data['cement-water ratio'] = data['CementComponent'] / data['WaterComponent']\n",
    "data['aggregate-cement ratio'] = (data['FineAggregateComponent'] + data['CoarseAggregateComponent']) / data['CementComponent']\n",
    "data['age_cement'] = data['CementComponent'] / data['AgeInDays']\n",
    "data['superplasticizer-cement ratio'] = data['SuperplasticizerComponent'] / data['CementComponent']\n",
    "\n",
    "data_w['cement-water ratio'] = data_w['CementComponent'] / data_w['WaterComponent']\n",
    "data_w['aggregate-cement ratio'] = (data_w['FineAggregateComponent'] + data_w['CoarseAggregateComponent']) / data_w['CementComponent']\n",
    "data_w['age_cement'] = data_w['CementComponent'] / data_w['AgeInDays']\n",
    "data_w['superplasticizer-cement ratio'] = data_w['SuperplasticizerComponent'] / data_w['CementComponent']"
   ]
  },
  {
   "cell_type": "code",
   "execution_count": 9,
   "id": "690ca15b-b983-4932-bb2b-b2998fec0cba",
   "metadata": {},
   "outputs": [],
   "source": [
    "# features = set(data.columns).difference({'Generated', 'Strength', 'Strength_boxcox'})\n",
    "# features = list(features)\n",
    "# fig, axes = plt.subplots(len(features) // 3, 3, figsize=(20, 25))\n",
    "\n",
    "# f = 0\n",
    "# for axs in axes:\n",
    "#     for ax in axs:\n",
    "#         if f == len(features): \n",
    "#             break\n",
    "#         sns.histplot(data[features[f]], ax=ax, color=\"#d4d700\", label='original data', kde=True)\n",
    "#         sns.histplot(data_w[features[f]], ax=ax, color=\"#a2d6f9\", label='winsorized data', kde=True).lines[0].set_color('#e9ff70')\n",
    "#         ax.legend()\n",
    "#         f += 1\n",
    "\n",
    "# fig.suptitle('Data Distribution', fontsize=22, fontweight='bold', y=1)\n",
    "# plt.tight_layout()\n",
    "# plt.savefig(\"original|winsored.png\", format=\"png\", dpi=300, bbox_inches=\"tight\")\n",
    "# plt.show()"
   ]
  },
  {
   "cell_type": "markdown",
   "id": "c37f2452-9329-4aed-9c2e-fab22707501f",
   "metadata": {},
   "source": [
    "- **Основний ефект вінзоризації**: Вінзоризація ефективно обмежила екстремальні значення у кожній ознаці, зменшуючи вплив викидів та асиметрії без суттєвої зміни загального розподілу.\n",
    "- **Стабілізовані дані**: Такий підхід допомагає стабілізувати набір даних, роблячи його більш придатним для моделювання, оскільки зменшує потенційний вплив викидів, які можуть спотворити прогнози або збільшити варіативність моделі.\n",
    "- **Збережена форма розподілу**: Для більшості ознак основна форма розподілу збережена, що означає, що вінзоризація є обережною і не трансформує характеристики даних суттєво."
   ]
  },
  {
   "cell_type": "code",
   "execution_count": 10,
   "id": "6bd78775-6b6a-4e1c-99a2-379af65fc017",
   "metadata": {},
   "outputs": [],
   "source": [
    "# heatmap_corr(data,'Data Correlation')\n",
    "# heatmap_corr(data_w,'Data (Winsorized) Correlation')"
   ]
  },
  {
   "cell_type": "markdown",
   "id": "88af8869-2b96-459c-b19f-15a8be9752c1",
   "metadata": {},
   "source": [
    "Загалом, вінзоризація трохи стабілізувала кореляційні значення, зменшивши вплив екстремальних значень, що робить набір даних більш надійним для подальшого аналізу та моделювання."
   ]
  },
  {
   "cell_type": "code",
   "execution_count": 11,
   "id": "dbe7185d-20d4-4f2f-bf3f-eba5bb75a04f",
   "metadata": {},
   "outputs": [],
   "source": [
    "# Define the target column\n",
    "target_column = 'Strength'\n",
    "\n",
    "# Separate features and target\n",
    "X = data_w.drop(columns=[target_column])\n",
    "y = data_w[target_column]\n",
    "\n",
    "# Split the data into training and testing sets\n",
    "X_train, X_test, y_train, y_test = train_test_split(X, y, test_size=0.2, random_state=42)\n",
    "\n",
    "# Initialize the scalers\n",
    "scaler_X = StandardScaler()\n",
    "scaler_y = StandardScaler()\n",
    "\n",
    "# Fit and transform the feature data\n",
    "X_train_scaled = scaler_X.fit_transform(X_train)\n",
    "X_test_scaled = scaler_X.transform(X_test)\n",
    "\n",
    "y_train_scaled = scale(y_train)\n",
    "y_test_scaled = scale(y_test)\n",
    "\n",
    "X_train_scaled = pd.DataFrame(X_train_scaled, columns=X.columns)\n",
    "X_test_scaled = pd.DataFrame(X_test_scaled, columns=X.columns)"
   ]
  },
  {
   "cell_type": "code",
   "execution_count": 12,
   "id": "7a390b67-88c2-4d55-9e3f-b839a8f8f7d7",
   "metadata": {},
   "outputs": [],
   "source": [
    "input_size = X.shape[1]\n",
    "hidden_size = 35     \n",
    "output_size = 1      \n",
    "learning_rate = 0.005 \n",
    "batch_size = 32      \n",
    "num_epochs = 400    "
   ]
  },
  {
   "cell_type": "code",
   "execution_count": 13,
   "id": "f579504d-2b1e-4004-a9b1-69a5bd27d58b",
   "metadata": {},
   "outputs": [],
   "source": [
    "class NeuralNetwork(nn.Module):\n",
    "    def __init__(self, input_size, hidden_size, output_size):\n",
    "        super(NeuralNetwork, self).__init__()\n",
    "        self.fc1 = nn.Linear(input_size, hidden_size)\n",
    "        self.relu1 = nn.ReLU()\n",
    "        self.fc2 = nn.Linear(hidden_size, hidden_size)\n",
    "        self.relu2 = nn.ReLU()\n",
    "        self.fc3 = nn.Linear(hidden_size, output_size)\n",
    "\n",
    "    def forward(self, x):\n",
    "        x = self.fc1(x)\n",
    "        x = self.relu1(x)\n",
    "        x = self.fc2(x)\n",
    "        x = self.relu2(x)\n",
    "        x = self.fc3(x)\n",
    "        return x"
   ]
  },
  {
   "cell_type": "code",
   "execution_count": 14,
   "id": "ea5dde1b-771c-4941-9d7e-b767b9d31067",
   "metadata": {},
   "outputs": [],
   "source": [
    "model = NeuralNetwork(input_size, hidden_size, output_size)\n",
    "loss_function = nn.MSELoss()\n",
    "optimizer = torch.optim.SGD(model.parameters(), lr=learning_rate)"
   ]
  },
  {
   "cell_type": "code",
   "execution_count": null,
   "id": "43dfe83e-4488-4d6f-b0f4-3b2ce8ad4a74",
   "metadata": {
    "scrolled": true
   },
   "outputs": [],
   "source": [
    "loss_values = []\n",
    "train_dataset = TensorDataset(torch.tensor(X_train_scaled.values, dtype=torch.float32),\n",
    "                              torch.tensor(y_train_scaled, dtype=torch.float32))\n",
    "train_loader = DataLoader(train_dataset, batch_size=batch_size, shuffle=True)\n",
    "\n",
    "for epoch in range(num_epochs):\n",
    "    epoch_loss = 0\n",
    "    \n",
    "    for X_batch, y_batch in train_loader:\n",
    "        optimizer.zero_grad()\n",
    "        predictions = model(X_batch)\n",
    "        loss = loss_function(predictions, y_batch.unsqueeze(1))  # y_batch.unsqueeze(1) для вирівнювання розмірностей\n",
    "        loss.backward()\n",
    "        optimizer.step()\n",
    "        epoch_loss += loss.item()\n",
    "    \n",
    "    average_epoch_loss = epoch_loss / len(train_loader)\n",
    "    loss_values.append(average_epoch_loss)\n",
    "    # print(f\"Epoch {epoch+1}/{num_epochs}, Loss: {average_epoch_loss:.4f}\")"
   ]
  },
  {
   "cell_type": "code",
   "execution_count": null,
   "id": "4adb0c49-05ee-4f83-b682-e06972cfc2e0",
   "metadata": {},
   "outputs": [],
   "source": [
    "model.eval()\n",
    "\n",
    "# Перетворення тестових даних у тензори\n",
    "X_test_tensor = torch.tensor(X_test_scaled.values, dtype=torch.float32)\n",
    "y_test_tensor = torch.tensor(y_test_scaled, dtype=torch.float32)\n",
    "\n",
    "# Отримання прогнозів\n",
    "with torch.no_grad():  # Вимикає обчислення градієнтів для швидшої обробки\n",
    "    y_pred_tensor = model(X_test_tensor)\n",
    "    y_pred = y_pred_tensor.numpy()  # Конвертуємо прогноз у numpy для обчислення метрик\n",
    "    y_test = y_test_tensor.numpy()  # Конвертуємо цільову змінну в numpy\n",
    "\n",
    "# Обчислення метрик ефективності\n",
    "mse = mean_squared_error(y_test, y_pred)\n",
    "mae = mean_absolute_error(y_test, y_pred)\n",
    "r2 = r2_score(y_test, y_pred)\n",
    "\n",
    "# Виведення результатів\n",
    "print(f\"Mean Squared Error (MSE): {mse:.4f}\")\n",
    "print(f\"Mean Absolute Error (MAE): {mae:.4f}\")\n",
    "print(f\"R² Score: {r2:.4f}\")"
   ]
  },
  {
   "cell_type": "code",
   "execution_count": null,
   "id": "828203fb-0ca0-4d24-aeab-53286a2c12a7",
   "metadata": {},
   "outputs": [],
   "source": [
    "# Побудова графіка фактичних і прогнозованих значень\n",
    "plt.figure(figsize=(10, 5))\n",
    "plt.plot(y_test, label='Фактичні значення', color='blue', marker='o', linestyle='dotted')\n",
    "plt.plot(y_pred, label='Прогнозовані значення', color='red', marker='x', linestyle='dotted')\n",
    "plt.xlabel(\"Зразки\")\n",
    "plt.ylabel(\"Значення\")\n",
    "plt.title(\"Фактичні vs Прогнозовані значення\")\n",
    "plt.legend()\n",
    "plt.show()\n",
    "\n",
    "# 2. Графік значень функції втрат\n",
    "# Побудова графіка втрат по епохах\n",
    "plt.figure(figsize=(10, 5))\n",
    "plt.plot(range(1, num_epochs + 1), loss_values, marker='o', color='purple')\n",
    "plt.xlabel(\"Епохи\")\n",
    "plt.ylabel(\"Значення функції втрат\")\n",
    "plt.title(\"Значення функції втрат по епохах\")\n",
    "plt.show()"
   ]
  },
  {
   "cell_type": "code",
   "execution_count": null,
   "id": "ef231791-9c2f-4cc9-a639-05a18051be97",
   "metadata": {},
   "outputs": [],
   "source": []
  }
 ],
 "metadata": {
  "kernelspec": {
   "display_name": "Python 3 (ipykernel)",
   "language": "python",
   "name": "python3"
  },
  "language_info": {
   "codemirror_mode": {
    "name": "ipython",
    "version": 3
   },
   "file_extension": ".py",
   "mimetype": "text/x-python",
   "name": "python",
   "nbconvert_exporter": "python",
   "pygments_lexer": "ipython3",
   "version": "3.12.2"
  }
 },
 "nbformat": 4,
 "nbformat_minor": 5
}
