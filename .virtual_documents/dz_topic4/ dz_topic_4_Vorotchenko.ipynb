!pip install ydata_profiling
from dataclasses import dataclass

import pandas as pd
import numpy as np

from sklearn.impute import SimpleImputer
from sklearn.preprocessing import TargetEncoder, StandardScaler, LabelEncoder
from sklearn.metrics import root_mean_squared_error as RMSE
from sklearn.metrics import accuracy_score
from sklearn.model_selection import train_test_split

import torch
from torch import nn 
from torch.utils.data import Dataset, DataLoader

import matplotlib.pyplot as plt
import seaborn as sns
from scipy.stats import probplot

from ydata_profiling import ProfileReport
from helpers import *

%matplotlib inline





data = pd.read_csv('ConcreteStrengthData.csv')


profile = ProfileReport(data, title="Pandas Profiling Report", explorative=True)
# profile.to_file("report.html")





data.drop_duplicates(inplace=True)


features = list(data.columns)
fig, axes = plt.subplots(len(features), 3, figsize=(20, 45))

for f, (ax1, ax2, ax3) in enumerate(axes):
    sns.histplot(data[features[f]], ax=ax1, color='orange')
    sns.kdeplot(data[features[f]], ax=ax1, color='black')
    sns.boxplot(x=data[features[f]], ax=ax2, color='lightblue')
    probplot(data[features[f]], plot=ax3)

fig.suptitle('Data Distribution in Training Set', fontsize=18, fontweight='bold', y=1)
plt.tight_layout()
# plt.savefig("plot.png", format="png", dpi=300, bbox_inches="tight")
plt.show()


features = set(data.columns).difference({'Generated','Strength'})
features = list(features)
fig, axes = plt.subplots(len(features)//3+1,3,figsize=(20,15))

f = 0
for axs in axes:
    for ax in axs:
        if f == len(features): break
        sns.regplot(x=features[f],y='Strength',data=data,color='#E4E9CE',line_kws={'color':'green'},ax=ax)
        f += 1

fig.suptitle('Direct Relationship of Each Features and Target',y=0.95,fontsize=22,fontweight='bold')
plt.savefig("Direct.png", format="png", dpi=300, bbox_inches="tight")
plt.show()





fig, axes = plt.subplots(len(features)//3+1,3,figsize=(20,15))

f = 0
for axs in axes:
    for ax in axs:
        if f == len(features): break
        sns.boxplot(x=features[f],y='Strength',data=data_w,ax=ax)
        f += 1

fig.suptitle('Direct Relationship of Each Features and Target',y=0.95,fontsize=22,fontweight='bold') 
plt.savefig("lkkk.png", format="png", dpi=300, bbox_inches="tight")
plt.show()





data_w = data.copy()
for col in features:
    if col in ['SuperplasticizerComponent','AgeInDays','WaterComponent']:
        data_w = winsorize(data_1,col,97.5,0.025)



