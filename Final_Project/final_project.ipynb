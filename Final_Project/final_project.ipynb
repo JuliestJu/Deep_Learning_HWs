{
 "cells": [
  {
   "cell_type": "code",
   "execution_count": null,
   "id": "c19b3a02-5b6c-4a2d-87e8-3a2b1ea17e8f",
   "metadata": {},
   "outputs": [],
   "source": [
    "# General Libraries\n",
    "import numpy as np\n",
    "import pandas as pd\n",
    "import matplotlib.pyplot as plt\n",
    "import seaborn as sns\n",
    "\n",
    "# Image Processing\n",
    "from PIL import Image\n",
    "import cv2\n",
    "import tensorflow as tf\n",
    "from tensorflow.keras.applications import EfficientNetB0\n",
    "\n",
    "# Text Processing\n",
    "import re\n",
    "import nltk\n",
    "from nltk.corpus import stopwords\n",
    "from transformers import BertTokenizer, TFBertModel\n",
    "\n",
    "# Machine Learning and Evaluation\n",
    "from sklearn.model_selection import train_test_split\n",
    "from sklearn.preprocessing import StandardScaler\n",
    "from sklearn.metrics import accuracy_score, classification_report, confusion_matrix\n",
    "\n",
    "# Data Augmentation\n",
    "from tensorflow.keras.preprocessing.image import ImageDataGenerator\n",
    "from albumentations import Compose, RandomCrop, HorizontalFlip, Normalize\n",
    "\n",
    "# Miscellaneous\n",
    "import os\n",
    "from tqdm import tqdm\n"
   ]
  }
 ],
 "metadata": {
  "kernelspec": {
   "display_name": "",
   "name": ""
  },
  "language_info": {
   "name": ""
  }
 },
 "nbformat": 4,
 "nbformat_minor": 5
}
