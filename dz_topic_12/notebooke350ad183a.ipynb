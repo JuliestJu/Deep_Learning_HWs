{
 "cells": [
  {
   "cell_type": "code",
   "execution_count": 1,
   "metadata": {
    "execution": {
     "iopub.execute_input": "2024-12-11T13:50:57.772555Z",
     "iopub.status.busy": "2024-12-11T13:50:57.772272Z",
     "iopub.status.idle": "2024-12-11T13:51:40.793513Z",
     "shell.execute_reply": "2024-12-11T13:51:40.792410Z",
     "shell.execute_reply.started": "2024-12-11T13:50:57.772527Z"
    },
    "id": "mD5DO2ACe-8U",
    "outputId": "b9e86446-f18a-46ca-8ef4-573bb641b3aa"
   },
   "outputs": [
    {
     "name": "stdout",
     "output_type": "stream",
     "text": [
      "Requirement already satisfied: update in /opt/conda/lib/python3.10/site-packages (0.0.1)\n",
      "Requirement already satisfied: torch==2.0.1 in /opt/conda/lib/python3.10/site-packages (2.0.1)\n",
      "Requirement already satisfied: filelock in /opt/conda/lib/python3.10/site-packages (from torch==2.0.1) (3.15.1)\n",
      "Requirement already satisfied: typing-extensions in /opt/conda/lib/python3.10/site-packages (from torch==2.0.1) (4.12.2)\n",
      "Requirement already satisfied: sympy in /opt/conda/lib/python3.10/site-packages (from torch==2.0.1) (1.13.3)\n",
      "Requirement already satisfied: networkx in /opt/conda/lib/python3.10/site-packages (from torch==2.0.1) (3.3)\n",
      "Requirement already satisfied: jinja2 in /opt/conda/lib/python3.10/site-packages (from torch==2.0.1) (3.1.4)\n",
      "Requirement already satisfied: nvidia-cuda-nvrtc-cu11==11.7.99 in /opt/conda/lib/python3.10/site-packages (from torch==2.0.1) (11.7.99)\n",
      "Requirement already satisfied: nvidia-cuda-runtime-cu11==11.7.99 in /opt/conda/lib/python3.10/site-packages (from torch==2.0.1) (11.7.99)\n",
      "Requirement already satisfied: nvidia-cuda-cupti-cu11==11.7.101 in /opt/conda/lib/python3.10/site-packages (from torch==2.0.1) (11.7.101)\n",
      "Requirement already satisfied: nvidia-cudnn-cu11==8.5.0.96 in /opt/conda/lib/python3.10/site-packages (from torch==2.0.1) (8.5.0.96)\n",
      "Requirement already satisfied: nvidia-cublas-cu11==11.10.3.66 in /opt/conda/lib/python3.10/site-packages (from torch==2.0.1) (11.10.3.66)\n",
      "Requirement already satisfied: nvidia-cufft-cu11==10.9.0.58 in /opt/conda/lib/python3.10/site-packages (from torch==2.0.1) (10.9.0.58)\n",
      "Requirement already satisfied: nvidia-curand-cu11==10.2.10.91 in /opt/conda/lib/python3.10/site-packages (from torch==2.0.1) (10.2.10.91)\n",
      "Requirement already satisfied: nvidia-cusolver-cu11==11.4.0.1 in /opt/conda/lib/python3.10/site-packages (from torch==2.0.1) (11.4.0.1)\n",
      "Requirement already satisfied: nvidia-cusparse-cu11==11.7.4.91 in /opt/conda/lib/python3.10/site-packages (from torch==2.0.1) (11.7.4.91)\n",
      "Requirement already satisfied: nvidia-nccl-cu11==2.14.3 in /opt/conda/lib/python3.10/site-packages (from torch==2.0.1) (2.14.3)\n",
      "Requirement already satisfied: nvidia-nvtx-cu11==11.7.91 in /opt/conda/lib/python3.10/site-packages (from torch==2.0.1) (11.7.91)\n",
      "Requirement already satisfied: triton==2.0.0 in /opt/conda/lib/python3.10/site-packages (from torch==2.0.1) (2.0.0)\n",
      "Requirement already satisfied: setuptools in /opt/conda/lib/python3.10/site-packages (from nvidia-cublas-cu11==11.10.3.66->torch==2.0.1) (70.0.0)\n",
      "Requirement already satisfied: wheel in /opt/conda/lib/python3.10/site-packages (from nvidia-cublas-cu11==11.10.3.66->torch==2.0.1) (0.43.0)\n",
      "Requirement already satisfied: cmake in /opt/conda/lib/python3.10/site-packages (from triton==2.0.0->torch==2.0.1) (3.31.1)\n",
      "Requirement already satisfied: lit in /opt/conda/lib/python3.10/site-packages (from triton==2.0.0->torch==2.0.1) (18.1.8)\n",
      "Requirement already satisfied: style==1.1.0 in /opt/conda/lib/python3.10/site-packages (from update) (1.1.0)\n",
      "Requirement already satisfied: MarkupSafe>=2.0 in /opt/conda/lib/python3.10/site-packages (from jinja2->torch==2.0.1) (2.1.5)\n",
      "Requirement already satisfied: mpmath<1.4,>=1.1.0 in /opt/conda/lib/python3.10/site-packages (from sympy->torch==2.0.1) (1.3.0)\n",
      "Requirement already satisfied: torchtext==0.15.2 in /opt/conda/lib/python3.10/site-packages (0.15.2)\n",
      "Requirement already satisfied: tqdm in /opt/conda/lib/python3.10/site-packages (from torchtext==0.15.2) (4.66.4)\n",
      "Requirement already satisfied: requests in /opt/conda/lib/python3.10/site-packages (from torchtext==0.15.2) (2.32.3)\n",
      "Requirement already satisfied: torch==2.0.1 in /opt/conda/lib/python3.10/site-packages (from torchtext==0.15.2) (2.0.1)\n",
      "Requirement already satisfied: numpy in /opt/conda/lib/python3.10/site-packages (from torchtext==0.15.2) (1.26.4)\n",
      "Requirement already satisfied: torchdata==0.6.1 in /opt/conda/lib/python3.10/site-packages (from torchtext==0.15.2) (0.6.1)\n",
      "Requirement already satisfied: filelock in /opt/conda/lib/python3.10/site-packages (from torch==2.0.1->torchtext==0.15.2) (3.15.1)\n",
      "Requirement already satisfied: typing-extensions in /opt/conda/lib/python3.10/site-packages (from torch==2.0.1->torchtext==0.15.2) (4.12.2)\n",
      "Requirement already satisfied: sympy in /opt/conda/lib/python3.10/site-packages (from torch==2.0.1->torchtext==0.15.2) (1.13.3)\n",
      "Requirement already satisfied: networkx in /opt/conda/lib/python3.10/site-packages (from torch==2.0.1->torchtext==0.15.2) (3.3)\n",
      "Requirement already satisfied: jinja2 in /opt/conda/lib/python3.10/site-packages (from torch==2.0.1->torchtext==0.15.2) (3.1.4)\n",
      "Requirement already satisfied: nvidia-cuda-nvrtc-cu11==11.7.99 in /opt/conda/lib/python3.10/site-packages (from torch==2.0.1->torchtext==0.15.2) (11.7.99)\n",
      "Requirement already satisfied: nvidia-cuda-runtime-cu11==11.7.99 in /opt/conda/lib/python3.10/site-packages (from torch==2.0.1->torchtext==0.15.2) (11.7.99)\n",
      "Requirement already satisfied: nvidia-cuda-cupti-cu11==11.7.101 in /opt/conda/lib/python3.10/site-packages (from torch==2.0.1->torchtext==0.15.2) (11.7.101)\n",
      "Requirement already satisfied: nvidia-cudnn-cu11==8.5.0.96 in /opt/conda/lib/python3.10/site-packages (from torch==2.0.1->torchtext==0.15.2) (8.5.0.96)\n",
      "Requirement already satisfied: nvidia-cublas-cu11==11.10.3.66 in /opt/conda/lib/python3.10/site-packages (from torch==2.0.1->torchtext==0.15.2) (11.10.3.66)\n",
      "Requirement already satisfied: nvidia-cufft-cu11==10.9.0.58 in /opt/conda/lib/python3.10/site-packages (from torch==2.0.1->torchtext==0.15.2) (10.9.0.58)\n",
      "Requirement already satisfied: nvidia-curand-cu11==10.2.10.91 in /opt/conda/lib/python3.10/site-packages (from torch==2.0.1->torchtext==0.15.2) (10.2.10.91)\n",
      "Requirement already satisfied: nvidia-cusolver-cu11==11.4.0.1 in /opt/conda/lib/python3.10/site-packages (from torch==2.0.1->torchtext==0.15.2) (11.4.0.1)\n",
      "Requirement already satisfied: nvidia-cusparse-cu11==11.7.4.91 in /opt/conda/lib/python3.10/site-packages (from torch==2.0.1->torchtext==0.15.2) (11.7.4.91)\n",
      "Requirement already satisfied: nvidia-nccl-cu11==2.14.3 in /opt/conda/lib/python3.10/site-packages (from torch==2.0.1->torchtext==0.15.2) (2.14.3)\n",
      "Requirement already satisfied: nvidia-nvtx-cu11==11.7.91 in /opt/conda/lib/python3.10/site-packages (from torch==2.0.1->torchtext==0.15.2) (11.7.91)\n",
      "Requirement already satisfied: triton==2.0.0 in /opt/conda/lib/python3.10/site-packages (from torch==2.0.1->torchtext==0.15.2) (2.0.0)\n",
      "Requirement already satisfied: urllib3>=1.25 in /opt/conda/lib/python3.10/site-packages (from torchdata==0.6.1->torchtext==0.15.2) (1.26.18)\n",
      "Requirement already satisfied: setuptools in /opt/conda/lib/python3.10/site-packages (from nvidia-cublas-cu11==11.10.3.66->torch==2.0.1->torchtext==0.15.2) (70.0.0)\n",
      "Requirement already satisfied: wheel in /opt/conda/lib/python3.10/site-packages (from nvidia-cublas-cu11==11.10.3.66->torch==2.0.1->torchtext==0.15.2) (0.43.0)\n",
      "Requirement already satisfied: cmake in /opt/conda/lib/python3.10/site-packages (from triton==2.0.0->torch==2.0.1->torchtext==0.15.2) (3.31.1)\n",
      "Requirement already satisfied: lit in /opt/conda/lib/python3.10/site-packages (from triton==2.0.0->torch==2.0.1->torchtext==0.15.2) (18.1.8)\n",
      "Requirement already satisfied: charset-normalizer<4,>=2 in /opt/conda/lib/python3.10/site-packages (from requests->torchtext==0.15.2) (3.3.2)\n",
      "Requirement already satisfied: idna<4,>=2.5 in /opt/conda/lib/python3.10/site-packages (from requests->torchtext==0.15.2) (3.7)\n",
      "Requirement already satisfied: certifi>=2017.4.17 in /opt/conda/lib/python3.10/site-packages (from requests->torchtext==0.15.2) (2024.6.2)\n",
      "Requirement already satisfied: MarkupSafe>=2.0 in /opt/conda/lib/python3.10/site-packages (from jinja2->torch==2.0.1->torchtext==0.15.2) (2.1.5)\n",
      "Requirement already satisfied: mpmath<1.4,>=1.1.0 in /opt/conda/lib/python3.10/site-packages (from sympy->torch==2.0.1->torchtext==0.15.2) (1.3.0)\n",
      "Requirement already satisfied: datasets==2.14.7 in /opt/conda/lib/python3.10/site-packages (2.14.7)\n",
      "Requirement already satisfied: numpy>=1.17 in /opt/conda/lib/python3.10/site-packages (from datasets==2.14.7) (1.26.4)\n",
      "Requirement already satisfied: pyarrow>=8.0.0 in /opt/conda/lib/python3.10/site-packages (from datasets==2.14.7) (17.0.0)\n",
      "Requirement already satisfied: pyarrow-hotfix in /opt/conda/lib/python3.10/site-packages (from datasets==2.14.7) (0.6)\n",
      "Requirement already satisfied: dill<0.3.8,>=0.3.0 in /opt/conda/lib/python3.10/site-packages (from datasets==2.14.7) (0.3.7)\n",
      "Requirement already satisfied: pandas in /opt/conda/lib/python3.10/site-packages (from datasets==2.14.7) (2.2.3)\n",
      "Requirement already satisfied: requests>=2.19.0 in /opt/conda/lib/python3.10/site-packages (from datasets==2.14.7) (2.32.3)\n",
      "Requirement already satisfied: tqdm>=4.62.1 in /opt/conda/lib/python3.10/site-packages (from datasets==2.14.7) (4.66.4)\n",
      "Requirement already satisfied: xxhash in /opt/conda/lib/python3.10/site-packages (from datasets==2.14.7) (3.4.1)\n",
      "Requirement already satisfied: multiprocess in /opt/conda/lib/python3.10/site-packages (from datasets==2.14.7) (0.70.15)\n",
      "Requirement already satisfied: fsspec<=2023.10.0,>=2023.1.0 in /opt/conda/lib/python3.10/site-packages (from fsspec[http]<=2023.10.0,>=2023.1.0->datasets==2.14.7) (2023.10.0)\n",
      "Requirement already satisfied: aiohttp in /opt/conda/lib/python3.10/site-packages (from datasets==2.14.7) (3.9.5)\n",
      "Requirement already satisfied: huggingface-hub<1.0.0,>=0.14.0 in /opt/conda/lib/python3.10/site-packages (from datasets==2.14.7) (0.26.2)\n",
      "Requirement already satisfied: packaging in /opt/conda/lib/python3.10/site-packages (from datasets==2.14.7) (21.3)\n",
      "Requirement already satisfied: pyyaml>=5.1 in /opt/conda/lib/python3.10/site-packages (from datasets==2.14.7) (6.0.2)\n",
      "Requirement already satisfied: aiosignal>=1.1.2 in /opt/conda/lib/python3.10/site-packages (from aiohttp->datasets==2.14.7) (1.3.1)\n",
      "Requirement already satisfied: attrs>=17.3.0 in /opt/conda/lib/python3.10/site-packages (from aiohttp->datasets==2.14.7) (23.2.0)\n",
      "Requirement already satisfied: frozenlist>=1.1.1 in /opt/conda/lib/python3.10/site-packages (from aiohttp->datasets==2.14.7) (1.4.1)\n",
      "Requirement already satisfied: multidict<7.0,>=4.5 in /opt/conda/lib/python3.10/site-packages (from aiohttp->datasets==2.14.7) (6.0.5)\n",
      "Requirement already satisfied: yarl<2.0,>=1.0 in /opt/conda/lib/python3.10/site-packages (from aiohttp->datasets==2.14.7) (1.9.4)\n",
      "Requirement already satisfied: async-timeout<5.0,>=4.0 in /opt/conda/lib/python3.10/site-packages (from aiohttp->datasets==2.14.7) (4.0.3)\n",
      "Requirement already satisfied: filelock in /opt/conda/lib/python3.10/site-packages (from huggingface-hub<1.0.0,>=0.14.0->datasets==2.14.7) (3.15.1)\n",
      "Requirement already satisfied: typing-extensions>=3.7.4.3 in /opt/conda/lib/python3.10/site-packages (from huggingface-hub<1.0.0,>=0.14.0->datasets==2.14.7) (4.12.2)\n",
      "Requirement already satisfied: pyparsing!=3.0.5,>=2.0.2 in /opt/conda/lib/python3.10/site-packages (from packaging->datasets==2.14.7) (3.1.2)\n",
      "Requirement already satisfied: charset-normalizer<4,>=2 in /opt/conda/lib/python3.10/site-packages (from requests>=2.19.0->datasets==2.14.7) (3.3.2)\n",
      "Requirement already satisfied: idna<4,>=2.5 in /opt/conda/lib/python3.10/site-packages (from requests>=2.19.0->datasets==2.14.7) (3.7)\n",
      "Requirement already satisfied: urllib3<3,>=1.21.1 in /opt/conda/lib/python3.10/site-packages (from requests>=2.19.0->datasets==2.14.7) (1.26.18)\n",
      "Requirement already satisfied: certifi>=2017.4.17 in /opt/conda/lib/python3.10/site-packages (from requests>=2.19.0->datasets==2.14.7) (2024.6.2)\n",
      "Requirement already satisfied: python-dateutil>=2.8.2 in /opt/conda/lib/python3.10/site-packages (from pandas->datasets==2.14.7) (2.9.0.post0)\n",
      "Requirement already satisfied: pytz>=2020.1 in /opt/conda/lib/python3.10/site-packages (from pandas->datasets==2.14.7) (2024.1)\n",
      "Requirement already satisfied: tzdata>=2022.7 in /opt/conda/lib/python3.10/site-packages (from pandas->datasets==2.14.7) (2024.1)\n",
      "Requirement already satisfied: six>=1.5 in /opt/conda/lib/python3.10/site-packages (from python-dateutil>=2.8.2->pandas->datasets==2.14.7) (1.16.0)\n",
      "Requirement already satisfied: evaluate==0.4.0 in /opt/conda/lib/python3.10/site-packages (0.4.0)\n",
      "Requirement already satisfied: datasets>=2.0.0 in /opt/conda/lib/python3.10/site-packages (from evaluate==0.4.0) (2.14.7)\n",
      "Requirement already satisfied: numpy>=1.17 in /opt/conda/lib/python3.10/site-packages (from evaluate==0.4.0) (1.26.4)\n",
      "Requirement already satisfied: dill in /opt/conda/lib/python3.10/site-packages (from evaluate==0.4.0) (0.3.7)\n",
      "Requirement already satisfied: pandas in /opt/conda/lib/python3.10/site-packages (from evaluate==0.4.0) (2.2.3)\n",
      "Requirement already satisfied: requests>=2.19.0 in /opt/conda/lib/python3.10/site-packages (from evaluate==0.4.0) (2.32.3)\n",
      "Requirement already satisfied: tqdm>=4.62.1 in /opt/conda/lib/python3.10/site-packages (from evaluate==0.4.0) (4.66.4)\n",
      "Requirement already satisfied: xxhash in /opt/conda/lib/python3.10/site-packages (from evaluate==0.4.0) (3.4.1)\n",
      "Requirement already satisfied: multiprocess in /opt/conda/lib/python3.10/site-packages (from evaluate==0.4.0) (0.70.15)\n",
      "Requirement already satisfied: fsspec>=2021.05.0 in /opt/conda/lib/python3.10/site-packages (from fsspec[http]>=2021.05.0->evaluate==0.4.0) (2023.10.0)\n",
      "Requirement already satisfied: huggingface-hub>=0.7.0 in /opt/conda/lib/python3.10/site-packages (from evaluate==0.4.0) (0.26.2)\n",
      "Requirement already satisfied: packaging in /opt/conda/lib/python3.10/site-packages (from evaluate==0.4.0) (21.3)\n",
      "Requirement already satisfied: responses<0.19 in /opt/conda/lib/python3.10/site-packages (from evaluate==0.4.0) (0.18.0)\n",
      "Requirement already satisfied: pyarrow>=8.0.0 in /opt/conda/lib/python3.10/site-packages (from datasets>=2.0.0->evaluate==0.4.0) (17.0.0)\n",
      "Requirement already satisfied: pyarrow-hotfix in /opt/conda/lib/python3.10/site-packages (from datasets>=2.0.0->evaluate==0.4.0) (0.6)\n",
      "Requirement already satisfied: aiohttp in /opt/conda/lib/python3.10/site-packages (from datasets>=2.0.0->evaluate==0.4.0) (3.9.5)\n",
      "Requirement already satisfied: pyyaml>=5.1 in /opt/conda/lib/python3.10/site-packages (from datasets>=2.0.0->evaluate==0.4.0) (6.0.2)\n",
      "Requirement already satisfied: filelock in /opt/conda/lib/python3.10/site-packages (from huggingface-hub>=0.7.0->evaluate==0.4.0) (3.15.1)\n",
      "Requirement already satisfied: typing-extensions>=3.7.4.3 in /opt/conda/lib/python3.10/site-packages (from huggingface-hub>=0.7.0->evaluate==0.4.0) (4.12.2)\n",
      "Requirement already satisfied: pyparsing!=3.0.5,>=2.0.2 in /opt/conda/lib/python3.10/site-packages (from packaging->evaluate==0.4.0) (3.1.2)\n",
      "Requirement already satisfied: charset-normalizer<4,>=2 in /opt/conda/lib/python3.10/site-packages (from requests>=2.19.0->evaluate==0.4.0) (3.3.2)\n",
      "Requirement already satisfied: idna<4,>=2.5 in /opt/conda/lib/python3.10/site-packages (from requests>=2.19.0->evaluate==0.4.0) (3.7)\n",
      "Requirement already satisfied: urllib3<3,>=1.21.1 in /opt/conda/lib/python3.10/site-packages (from requests>=2.19.0->evaluate==0.4.0) (1.26.18)\n",
      "Requirement already satisfied: certifi>=2017.4.17 in /opt/conda/lib/python3.10/site-packages (from requests>=2.19.0->evaluate==0.4.0) (2024.6.2)\n",
      "Requirement already satisfied: python-dateutil>=2.8.2 in /opt/conda/lib/python3.10/site-packages (from pandas->evaluate==0.4.0) (2.9.0.post0)\n",
      "Requirement already satisfied: pytz>=2020.1 in /opt/conda/lib/python3.10/site-packages (from pandas->evaluate==0.4.0) (2024.1)\n",
      "Requirement already satisfied: tzdata>=2022.7 in /opt/conda/lib/python3.10/site-packages (from pandas->evaluate==0.4.0) (2024.1)\n",
      "Requirement already satisfied: aiosignal>=1.1.2 in /opt/conda/lib/python3.10/site-packages (from aiohttp->datasets>=2.0.0->evaluate==0.4.0) (1.3.1)\n",
      "Requirement already satisfied: attrs>=17.3.0 in /opt/conda/lib/python3.10/site-packages (from aiohttp->datasets>=2.0.0->evaluate==0.4.0) (23.2.0)\n",
      "Requirement already satisfied: frozenlist>=1.1.1 in /opt/conda/lib/python3.10/site-packages (from aiohttp->datasets>=2.0.0->evaluate==0.4.0) (1.4.1)\n",
      "Requirement already satisfied: multidict<7.0,>=4.5 in /opt/conda/lib/python3.10/site-packages (from aiohttp->datasets>=2.0.0->evaluate==0.4.0) (6.0.5)\n",
      "Requirement already satisfied: yarl<2.0,>=1.0 in /opt/conda/lib/python3.10/site-packages (from aiohttp->datasets>=2.0.0->evaluate==0.4.0) (1.9.4)\n",
      "Requirement already satisfied: async-timeout<5.0,>=4.0 in /opt/conda/lib/python3.10/site-packages (from aiohttp->datasets>=2.0.0->evaluate==0.4.0) (4.0.3)\n",
      "Requirement already satisfied: six>=1.5 in /opt/conda/lib/python3.10/site-packages (from python-dateutil>=2.8.2->pandas->evaluate==0.4.0) (1.16.0)\n",
      "Requirement already satisfied: torchvision==0.15.2 in /opt/conda/lib/python3.10/site-packages (0.15.2)\n",
      "Requirement already satisfied: numpy in /opt/conda/lib/python3.10/site-packages (from torchvision==0.15.2) (1.26.4)\n",
      "Requirement already satisfied: requests in /opt/conda/lib/python3.10/site-packages (from torchvision==0.15.2) (2.32.3)\n",
      "Requirement already satisfied: torch==2.0.1 in /opt/conda/lib/python3.10/site-packages (from torchvision==0.15.2) (2.0.1)\n",
      "Requirement already satisfied: pillow!=8.3.*,>=5.3.0 in /opt/conda/lib/python3.10/site-packages (from torchvision==0.15.2) (10.3.0)\n",
      "Requirement already satisfied: filelock in /opt/conda/lib/python3.10/site-packages (from torch==2.0.1->torchvision==0.15.2) (3.15.1)\n",
      "Requirement already satisfied: typing-extensions in /opt/conda/lib/python3.10/site-packages (from torch==2.0.1->torchvision==0.15.2) (4.12.2)\n",
      "Requirement already satisfied: sympy in /opt/conda/lib/python3.10/site-packages (from torch==2.0.1->torchvision==0.15.2) (1.13.3)\n",
      "Requirement already satisfied: networkx in /opt/conda/lib/python3.10/site-packages (from torch==2.0.1->torchvision==0.15.2) (3.3)\n",
      "Requirement already satisfied: jinja2 in /opt/conda/lib/python3.10/site-packages (from torch==2.0.1->torchvision==0.15.2) (3.1.4)\n",
      "Requirement already satisfied: nvidia-cuda-nvrtc-cu11==11.7.99 in /opt/conda/lib/python3.10/site-packages (from torch==2.0.1->torchvision==0.15.2) (11.7.99)\n",
      "Requirement already satisfied: nvidia-cuda-runtime-cu11==11.7.99 in /opt/conda/lib/python3.10/site-packages (from torch==2.0.1->torchvision==0.15.2) (11.7.99)\n",
      "Requirement already satisfied: nvidia-cuda-cupti-cu11==11.7.101 in /opt/conda/lib/python3.10/site-packages (from torch==2.0.1->torchvision==0.15.2) (11.7.101)\n",
      "Requirement already satisfied: nvidia-cudnn-cu11==8.5.0.96 in /opt/conda/lib/python3.10/site-packages (from torch==2.0.1->torchvision==0.15.2) (8.5.0.96)\n",
      "Requirement already satisfied: nvidia-cublas-cu11==11.10.3.66 in /opt/conda/lib/python3.10/site-packages (from torch==2.0.1->torchvision==0.15.2) (11.10.3.66)\n",
      "Requirement already satisfied: nvidia-cufft-cu11==10.9.0.58 in /opt/conda/lib/python3.10/site-packages (from torch==2.0.1->torchvision==0.15.2) (10.9.0.58)\n",
      "Requirement already satisfied: nvidia-curand-cu11==10.2.10.91 in /opt/conda/lib/python3.10/site-packages (from torch==2.0.1->torchvision==0.15.2) (10.2.10.91)\n",
      "Requirement already satisfied: nvidia-cusolver-cu11==11.4.0.1 in /opt/conda/lib/python3.10/site-packages (from torch==2.0.1->torchvision==0.15.2) (11.4.0.1)\n",
      "Requirement already satisfied: nvidia-cusparse-cu11==11.7.4.91 in /opt/conda/lib/python3.10/site-packages (from torch==2.0.1->torchvision==0.15.2) (11.7.4.91)\n",
      "Requirement already satisfied: nvidia-nccl-cu11==2.14.3 in /opt/conda/lib/python3.10/site-packages (from torch==2.0.1->torchvision==0.15.2) (2.14.3)\n",
      "Requirement already satisfied: nvidia-nvtx-cu11==11.7.91 in /opt/conda/lib/python3.10/site-packages (from torch==2.0.1->torchvision==0.15.2) (11.7.91)\n",
      "Requirement already satisfied: triton==2.0.0 in /opt/conda/lib/python3.10/site-packages (from torch==2.0.1->torchvision==0.15.2) (2.0.0)\n",
      "Requirement already satisfied: setuptools in /opt/conda/lib/python3.10/site-packages (from nvidia-cublas-cu11==11.10.3.66->torch==2.0.1->torchvision==0.15.2) (70.0.0)\n",
      "Requirement already satisfied: wheel in /opt/conda/lib/python3.10/site-packages (from nvidia-cublas-cu11==11.10.3.66->torch==2.0.1->torchvision==0.15.2) (0.43.0)\n",
      "Requirement already satisfied: cmake in /opt/conda/lib/python3.10/site-packages (from triton==2.0.0->torch==2.0.1->torchvision==0.15.2) (3.31.1)\n",
      "Requirement already satisfied: lit in /opt/conda/lib/python3.10/site-packages (from triton==2.0.0->torch==2.0.1->torchvision==0.15.2) (18.1.8)\n",
      "Requirement already satisfied: charset-normalizer<4,>=2 in /opt/conda/lib/python3.10/site-packages (from requests->torchvision==0.15.2) (3.3.2)\n",
      "Requirement already satisfied: idna<4,>=2.5 in /opt/conda/lib/python3.10/site-packages (from requests->torchvision==0.15.2) (3.7)\n",
      "Requirement already satisfied: urllib3<3,>=1.21.1 in /opt/conda/lib/python3.10/site-packages (from requests->torchvision==0.15.2) (1.26.18)\n",
      "Requirement already satisfied: certifi>=2017.4.17 in /opt/conda/lib/python3.10/site-packages (from requests->torchvision==0.15.2) (2024.6.2)\n",
      "Requirement already satisfied: MarkupSafe>=2.0 in /opt/conda/lib/python3.10/site-packages (from jinja2->torch==2.0.1->torchvision==0.15.2) (2.1.5)\n",
      "Requirement already satisfied: mpmath<1.4,>=1.1.0 in /opt/conda/lib/python3.10/site-packages (from sympy->torch==2.0.1->torchvision==0.15.2) (1.3.0)\n"
     ]
    }
   ],
   "source": [
    "!pip install update torch==2.0.1\n",
    "!pip install torchtext==0.15.2\n",
    "!pip install datasets==2.14.7\n",
    "!pip install evaluate==0.4.0\n",
    "!pip install torchvision==0.15.2"
   ]
  },
  {
   "cell_type": "code",
   "execution_count": 2,
   "metadata": {
    "execution": {
     "iopub.execute_input": "2024-12-11T13:51:40.796732Z",
     "iopub.status.busy": "2024-12-11T13:51:40.796217Z",
     "iopub.status.idle": "2024-12-11T13:51:54.040412Z",
     "shell.execute_reply": "2024-12-11T13:51:54.039342Z",
     "shell.execute_reply.started": "2024-12-11T13:51:40.796687Z"
    },
    "id": "ZpVC2TMae-8W",
    "outputId": "ceff2eb7-4b02-493d-cd33-7bef0aa6fb1e"
   },
   "outputs": [
    {
     "name": "stdout",
     "output_type": "stream",
     "text": [
      "Collecting en-core-web-md==3.8.0\n",
      "  Downloading https://github.com/explosion/spacy-models/releases/download/en_core_web_md-3.8.0/en_core_web_md-3.8.0-py3-none-any.whl (33.5 MB)\n",
      "\u001b[2K     \u001b[90m━━━━━━━━━━━━━━━━━━━━━━━━━━━━━━━━━━━━━━━━\u001b[0m \u001b[32m33.5/33.5 MB\u001b[0m \u001b[31m53.2 MB/s\u001b[0m eta \u001b[36m0:00:00\u001b[0m00:01\u001b[0m00:01\u001b[0m\n",
      "\u001b[?25h\u001b[38;5;2m✔ Download and installation successful\u001b[0m\n",
      "You can now load the package via spacy.load('en_core_web_md')\n"
     ]
    }
   ],
   "source": [
    "!python -m spacy download en_core_web_md"
   ]
  },
  {
   "cell_type": "code",
   "execution_count": 3,
   "metadata": {
    "execution": {
     "iopub.execute_input": "2024-12-11T13:51:54.042309Z",
     "iopub.status.busy": "2024-12-11T13:51:54.041918Z",
     "iopub.status.idle": "2024-12-11T13:52:06.960110Z",
     "shell.execute_reply": "2024-12-11T13:52:06.959268Z",
     "shell.execute_reply.started": "2024-12-11T13:51:54.042267Z"
    },
    "id": "FYU_pmz7e-8W",
    "outputId": "69e8c55c-8af6-43ac-f601-850ed1ab95e2"
   },
   "outputs": [
    {
     "name": "stdout",
     "output_type": "stream",
     "text": [
      "Collecting sl-core-news-sm==3.8.0\n",
      "  Downloading https://github.com/explosion/spacy-models/releases/download/sl_core_news_sm-3.8.0/sl_core_news_sm-3.8.0-py3-none-any.whl (13.6 MB)\n",
      "\u001b[2K     \u001b[90m━━━━━━━━━━━━━━━━━━━━━━━━━━━━━━━━━━━━━━━━\u001b[0m \u001b[32m13.6/13.6 MB\u001b[0m \u001b[31m95.5 MB/s\u001b[0m eta \u001b[36m0:00:00\u001b[0m00:01\u001b[0m00:01\u001b[0m\n",
      "\u001b[?25h\u001b[38;5;2m✔ Download and installation successful\u001b[0m\n",
      "You can now load the package via spacy.load('sl_core_news_sm')\n"
     ]
    }
   ],
   "source": [
    "!python -m spacy download sl_core_news_sm"
   ]
  },
  {
   "cell_type": "code",
   "execution_count": 4,
   "metadata": {
    "execution": {
     "iopub.execute_input": "2024-12-11T13:52:06.961859Z",
     "iopub.status.busy": "2024-12-11T13:52:06.961560Z",
     "iopub.status.idle": "2024-12-11T13:52:10.879178Z",
     "shell.execute_reply": "2024-12-11T13:52:10.878111Z",
     "shell.execute_reply.started": "2024-12-11T13:52:06.961829Z"
    },
    "id": "sDbn9oBFe-8X"
   },
   "outputs": [],
   "source": [
    "import os\n",
    "import random\n",
    "from tqdm.auto import tqdm\n",
    "from dataclasses import dataclass\n",
    "\n",
    "import pandas as pd\n",
    "import numpy as np\n",
    "\n",
    "import spacy\n",
    "import en_core_web_md\n",
    "import sl_core_news_sm\n",
    "\n",
    "import datasets\n",
    "import torchtext\n",
    "\n",
    "import torch\n",
    "import torch.nn as nn\n",
    "import torch.optim as optim\n",
    "\n",
    "import matplotlib.pyplot as plt\n",
    "import matplotlib.ticker as ticker\n",
    "\n",
    "import warnings\n",
    "warnings.filterwarnings(\"ignore\")\n"
   ]
  },
  {
   "cell_type": "code",
   "execution_count": 5,
   "metadata": {
    "execution": {
     "iopub.execute_input": "2024-12-11T13:52:10.880754Z",
     "iopub.status.busy": "2024-12-11T13:52:10.880273Z",
     "iopub.status.idle": "2024-12-11T13:52:10.887694Z",
     "shell.execute_reply": "2024-12-11T13:52:10.886857Z",
     "shell.execute_reply.started": "2024-12-11T13:52:10.880725Z"
    },
    "id": "VW-H0GW9e-8X"
   },
   "outputs": [],
   "source": [
    "seed = 42\n",
    "\n",
    "random.seed(seed)\n",
    "np.random.seed(seed)\n",
    "torch.manual_seed(seed)\n",
    "torch.cuda.manual_seed(seed)\n",
    "torch.backends.cudnn.deterministic = True"
   ]
  },
  {
   "cell_type": "code",
   "execution_count": 6,
   "metadata": {
    "execution": {
     "iopub.execute_input": "2024-12-11T13:52:10.888981Z",
     "iopub.status.busy": "2024-12-11T13:52:10.888741Z",
     "iopub.status.idle": "2024-12-11T13:52:10.899621Z",
     "shell.execute_reply": "2024-12-11T13:52:10.898931Z",
     "shell.execute_reply.started": "2024-12-11T13:52:10.888957Z"
    },
    "id": "cHH2M7_2e-8Y"
   },
   "outputs": [],
   "source": [
    "def load_data(src_lang, target_lang):\n",
    "\n",
    "    dataset_name = f\"{src_lang}-{target_lang}\"\n",
    "    ds = datasets.load_dataset(\"Helsinki-NLP/europarl\", dataset_name, split=\"train[:3%]\").shuffle(seed=seed)\n",
    "\n",
    "    return ds"
   ]
  },
  {
   "cell_type": "code",
   "execution_count": 7,
   "metadata": {
    "colab": {
     "referenced_widgets": [
      "d79dd84132e94b26bfb43d06ca042be5",
      "7b8005a7602d485b9f74181db98c19a5",
      "c27fdf8ba97747e39e83bbb373c3ae59",
      "23d5a757fc4b4fa09d2a21ee979d73db",
      "b54d0ae66bd24e11bc938c6edf58d339",
      "4829a9e36c93469abc59595397536e87"
     ]
    },
    "execution": {
     "iopub.execute_input": "2024-12-11T13:52:10.903098Z",
     "iopub.status.busy": "2024-12-11T13:52:10.902838Z",
     "iopub.status.idle": "2024-12-11T13:53:35.912035Z",
     "shell.execute_reply": "2024-12-11T13:53:35.911176Z",
     "shell.execute_reply.started": "2024-12-11T13:52:10.903073Z"
    },
    "id": "My-1IZ-8e-8Y",
    "outputId": "f6b1d09b-60ee-4fac-abd9-a8b77edda40b"
   },
   "outputs": [
    {
     "data": {
      "text/plain": [
       "Dataset({\n",
       "    features: ['translation'],\n",
       "    num_rows: 18744\n",
       "})"
      ]
     },
     "execution_count": 7,
     "metadata": {},
     "output_type": "execute_result"
    }
   ],
   "source": [
    "dataset = load_data('en', 'sl')\n",
    "dataset"
   ]
  },
  {
   "cell_type": "code",
   "execution_count": 8,
   "metadata": {
    "colab": {
     "referenced_widgets": [
      "a29fa5a7dcb9462b8c4353d755629ac7"
     ]
    },
    "execution": {
     "iopub.execute_input": "2024-12-11T13:53:35.913359Z",
     "iopub.status.busy": "2024-12-11T13:53:35.913091Z",
     "iopub.status.idle": "2024-12-11T13:53:35.920225Z",
     "shell.execute_reply": "2024-12-11T13:53:35.919492Z",
     "shell.execute_reply.started": "2024-12-11T13:53:35.913334Z"
    },
    "id": "OHzky1r5e-8Z",
    "outputId": "fbb6b891-f7d9-4066-f4a1-581b7c2289da"
   },
   "outputs": [],
   "source": [
    "def remove_translation_key(dataset):\n",
    "    return dataset['translation']\n",
    "\n",
    "dataset = dataset.map(remove_translation_key, remove_columns=[\"translation\"])"
   ]
  },
  {
   "cell_type": "code",
   "execution_count": 9,
   "metadata": {
    "execution": {
     "iopub.execute_input": "2024-12-11T13:53:35.921540Z",
     "iopub.status.busy": "2024-12-11T13:53:35.921238Z",
     "iopub.status.idle": "2024-12-11T13:53:35.936421Z",
     "shell.execute_reply": "2024-12-11T13:53:35.935686Z",
     "shell.execute_reply.started": "2024-12-11T13:53:35.921514Z"
    },
    "id": "BIwbnvbke-8a"
   },
   "outputs": [],
   "source": [
    "\n",
    "split_dataset = dataset.train_test_split(test_size=0.1, seed = seed)\n",
    "\n",
    "train_dataset = split_dataset['train']\n",
    "valid_dataset = split_dataset['test']"
   ]
  },
  {
   "cell_type": "code",
   "execution_count": 10,
   "metadata": {
    "execution": {
     "iopub.execute_input": "2024-12-11T13:53:35.938086Z",
     "iopub.status.busy": "2024-12-11T13:53:35.937538Z",
     "iopub.status.idle": "2024-12-11T13:53:35.945866Z",
     "shell.execute_reply": "2024-12-11T13:53:35.945203Z",
     "shell.execute_reply.started": "2024-12-11T13:53:35.938059Z"
    },
    "id": "hpqH7i49e-8a",
    "outputId": "cdaaeabf-c9ac-490d-91d0-45ef9936120f"
   },
   "outputs": [
    {
     "data": {
      "text/plain": [
       "{'en': 'As underlined in your report, finding ways to encourage consumer demand for fuel-efficient cars will enable us significantly to reduce their environmental impact, along with the fuel bill of drivers in the European Union.',\n",
       " 'sl': 'Kot je izpostavljeno v poročilu, bomo lahko zaradi novih načinov za spodbujanje povpraševanja potrošnikov po varčnih osebnih vozilih znatno zmanjšali njihov vpliv na okolje, skupaj z računom voznikov za gorivo v Evropski uniji.'}"
      ]
     },
     "execution_count": 10,
     "metadata": {},
     "output_type": "execute_result"
    }
   ],
   "source": [
    "\n",
    "train_dataset[0]"
   ]
  },
  {
   "cell_type": "code",
   "execution_count": 11,
   "metadata": {
    "execution": {
     "iopub.execute_input": "2024-12-11T13:53:35.947151Z",
     "iopub.status.busy": "2024-12-11T13:53:35.946838Z",
     "iopub.status.idle": "2024-12-11T13:53:35.963810Z",
     "shell.execute_reply": "2024-12-11T13:53:35.963002Z",
     "shell.execute_reply.started": "2024-12-11T13:53:35.947126Z"
    },
    "id": "5x3_k5wke-8a",
    "outputId": "b9774255-8bd2-4130-ee6c-8df3292a1aac"
   },
   "outputs": [
    {
     "data": {
      "text/html": [
       "<div>\n",
       "<style scoped>\n",
       "    .dataframe tbody tr th:only-of-type {\n",
       "        vertical-align: middle;\n",
       "    }\n",
       "\n",
       "    .dataframe tbody tr th {\n",
       "        vertical-align: top;\n",
       "    }\n",
       "\n",
       "    .dataframe thead th {\n",
       "        text-align: right;\n",
       "    }\n",
       "</style>\n",
       "<table border=\"1\" class=\"dataframe\">\n",
       "  <thead>\n",
       "    <tr style=\"text-align: right;\">\n",
       "      <th></th>\n",
       "      <th>en</th>\n",
       "      <th>sl</th>\n",
       "    </tr>\n",
       "  </thead>\n",
       "  <tbody>\n",
       "    <tr>\n",
       "      <th>0</th>\n",
       "      <td>As underlined in your report, finding ways to encourage consumer demand for fuel-efficient cars will enable us significantly to reduce their environmental impact, along with the fuel bill of drivers in the European Union.</td>\n",
       "      <td>Kot je izpostavljeno v poročilu, bomo lahko zaradi novih načinov za spodbujanje povpraševanja potrošnikov po varčnih osebnih vozilih znatno zmanjšali njihov vpliv na okolje, skupaj z računom voznikov za gorivo v Evropski uniji.</td>\n",
       "    </tr>\n",
       "    <tr>\n",
       "      <th>1</th>\n",
       "      <td>Mr President, I am delighted to see that most of our Group's contribution to the opinion of the Committee on Economic and Monetary Affairs has been incorporated in Mr Toubon's excellent report.</td>\n",
       "      <td>Gospod predsednik, veseli me, da je bila večina prispevka naše skupine k mnenju Odbora o ekonomskih in monetarnih zadevah vključena v odlično poročilo gospoda Toubona.</td>\n",
       "    </tr>\n",
       "    <tr>\n",
       "      <th>2</th>\n",
       "      <td>With this text, the European Union will gain the tools it needs to continue its integration, to expand and to deepen its common policies.</td>\n",
       "      <td>S tem besedilom bo Evropska unija pridobila orodja, ki jih potrebuje za nadaljnje povezovanja, za širitev in poglobitev svoje skupne politike.</td>\n",
       "    </tr>\n",
       "    <tr>\n",
       "      <th>3</th>\n",
       "      <td>Nevertheless, reading the report, I was surprised, as a citizen of a recently acceded country, at the impression that it addresses a Union made up only of countries with developed economies, or rather, with equally developed economies, which is not true.</td>\n",
       "      <td>Vseeno pa sem bil med branjem poročila kot državljan nedavno pridružene države presenečen nad vtisom, da nagovarja Unijo, ki je sestavljena le iz držav z razvitimi gospodarstvi, ali raje, z enako razvitimi gospodarstvi, kar pa ne drži.</td>\n",
       "    </tr>\n",
       "    <tr>\n",
       "      <th>4</th>\n",
       "      <td>We expressed great concern over the continued closure of major crossing points.</td>\n",
       "      <td>Izrazili smo veliko zaskrbljenost zaradi stalnega zapiranja glavnih prehodov.</td>\n",
       "    </tr>\n",
       "  </tbody>\n",
       "</table>\n",
       "</div>"
      ],
      "text/plain": [
       "                                                                                                                                                                                                                                                               en  \\\n",
       "0                                   As underlined in your report, finding ways to encourage consumer demand for fuel-efficient cars will enable us significantly to reduce their environmental impact, along with the fuel bill of drivers in the European Union.   \n",
       "1                                                               Mr President, I am delighted to see that most of our Group's contribution to the opinion of the Committee on Economic and Monetary Affairs has been incorporated in Mr Toubon's excellent report.   \n",
       "2                                                                                                                       With this text, the European Union will gain the tools it needs to continue its integration, to expand and to deepen its common policies.   \n",
       "3  Nevertheless, reading the report, I was surprised, as a citizen of a recently acceded country, at the impression that it addresses a Union made up only of countries with developed economies, or rather, with equally developed economies, which is not true.   \n",
       "4                                                                                                                                                                                 We expressed great concern over the continued closure of major crossing points.   \n",
       "\n",
       "                                                                                                                                                                                                                                            sl  \n",
       "0          Kot je izpostavljeno v poročilu, bomo lahko zaradi novih načinov za spodbujanje povpraševanja potrošnikov po varčnih osebnih vozilih znatno zmanjšali njihov vpliv na okolje, skupaj z računom voznikov za gorivo v Evropski uniji.  \n",
       "1                                                                      Gospod predsednik, veseli me, da je bila večina prispevka naše skupine k mnenju Odbora o ekonomskih in monetarnih zadevah vključena v odlično poročilo gospoda Toubona.  \n",
       "2                                                                                               S tem besedilom bo Evropska unija pridobila orodja, ki jih potrebuje za nadaljnje povezovanja, za širitev in poglobitev svoje skupne politike.  \n",
       "3  Vseeno pa sem bil med branjem poročila kot državljan nedavno pridružene države presenečen nad vtisom, da nagovarja Unijo, ki je sestavljena le iz držav z razvitimi gospodarstvi, ali raje, z enako razvitimi gospodarstvi, kar pa ne drži.  \n",
       "4                                                                                                                                                                Izrazili smo veliko zaskrbljenost zaradi stalnega zapiranja glavnih prehodov.  "
      ]
     },
     "metadata": {},
     "output_type": "display_data"
    }
   ],
   "source": [
    "\n",
    "with pd.option_context('display.max_colwidth', None):\n",
    "    example_df = pd.DataFrame(train_dataset[:5])\n",
    "    display(example_df)"
   ]
  },
  {
   "cell_type": "code",
   "execution_count": 12,
   "metadata": {
    "execution": {
     "iopub.execute_input": "2024-12-11T13:53:35.965693Z",
     "iopub.status.busy": "2024-12-11T13:53:35.964939Z",
     "iopub.status.idle": "2024-12-11T13:53:38.518091Z",
     "shell.execute_reply": "2024-12-11T13:53:38.517364Z",
     "shell.execute_reply.started": "2024-12-11T13:53:35.965653Z"
    },
    "id": "HGjn9XJoe-8b"
   },
   "outputs": [],
   "source": [
    "\n",
    "en_nlp = en_core_web_md.load()\n",
    "sl_nlp = sl_core_news_sm.load()"
   ]
  },
  {
   "cell_type": "code",
   "execution_count": 13,
   "metadata": {
    "execution": {
     "iopub.execute_input": "2024-12-11T13:53:38.519771Z",
     "iopub.status.busy": "2024-12-11T13:53:38.519379Z",
     "iopub.status.idle": "2024-12-11T13:53:38.526216Z",
     "shell.execute_reply": "2024-12-11T13:53:38.525267Z",
     "shell.execute_reply.started": "2024-12-11T13:53:38.519733Z"
    },
    "id": "GBkPUaYae-8b"
   },
   "outputs": [],
   "source": [
    "def tokenize_example(\n",
    "    example,\n",
    "    en_nlp,\n",
    "    sl_nlp,\n",
    "    max_length,\n",
    "    lower,\n",
    "    sos_token,\n",
    "    eos_token\n",
    "):\n",
    "    en_tokens = [token.text for token in en_nlp.tokenizer(example['en'])][:max_length]\n",
    "    sl_tokens = [token.text for token in sl_nlp.tokenizer(example['sl'])][:max_length]\n",
    "    if lower:\n",
    "        en_tokens = [token.lower() for token in en_tokens]\n",
    "        sl_tokens = [token.lower() for token in sl_tokens]\n",
    "    en_tokens = [sos_token] + en_tokens + [eos_token]\n",
    "    sl_tokens = [sos_token] + sl_tokens + [eos_token]\n",
    "    return {\"en_tokens\": en_tokens, \"sl_tokens\": sl_tokens}"
   ]
  },
  {
   "cell_type": "code",
   "execution_count": 14,
   "metadata": {
    "colab": {
     "referenced_widgets": [
      "031666295993493988c45f8e0d4bcc1c",
      "9b6535fe1e354f679fe08fc5a732ff15"
     ]
    },
    "execution": {
     "iopub.execute_input": "2024-12-11T13:53:38.527555Z",
     "iopub.status.busy": "2024-12-11T13:53:38.527246Z",
     "iopub.status.idle": "2024-12-11T13:53:40.720167Z",
     "shell.execute_reply": "2024-12-11T13:53:40.719479Z",
     "shell.execute_reply.started": "2024-12-11T13:53:38.527531Z"
    },
    "id": "c9Tdcs_Fe-8b",
    "outputId": "de417bac-82b8-44a6-de43-8d062de85f56"
   },
   "outputs": [],
   "source": [
    "max_length = 200\n",
    "lower = True\n",
    "sos_token = \"<sos>\"\n",
    "eos_token = \"<eos>\"\n",
    "\n",
    "fn_kwargs = {\n",
    "    \"en_nlp\": en_nlp,\n",
    "    \"sl_nlp\": sl_nlp,\n",
    "    \"max_length\": max_length,\n",
    "    \"lower\": lower,\n",
    "    \"sos_token\": sos_token,\n",
    "    \"eos_token\": eos_token,\n",
    "}\n",
    "\n",
    "train_dataset = train_dataset.map(tokenize_example, fn_kwargs=fn_kwargs)\n",
    "valid_dataset = valid_dataset.map(tokenize_example, fn_kwargs=fn_kwargs)"
   ]
  },
  {
   "cell_type": "code",
   "execution_count": 15,
   "metadata": {
    "execution": {
     "iopub.execute_input": "2024-12-11T13:53:40.721515Z",
     "iopub.status.busy": "2024-12-11T13:53:40.721201Z",
     "iopub.status.idle": "2024-12-11T13:53:40.727174Z",
     "shell.execute_reply": "2024-12-11T13:53:40.726290Z",
     "shell.execute_reply.started": "2024-12-11T13:53:40.721482Z"
    },
    "id": "b9o0bAeWe-8b",
    "outputId": "88a7c4bd-4a5d-4a3c-b2ea-ba20ccef9c1b"
   },
   "outputs": [
    {
     "data": {
      "text/plain": [
       "Dataset({\n",
       "    features: ['en', 'sl', 'en_tokens', 'sl_tokens'],\n",
       "    num_rows: 16869\n",
       "})"
      ]
     },
     "execution_count": 15,
     "metadata": {},
     "output_type": "execute_result"
    }
   ],
   "source": [
    "train_dataset"
   ]
  },
  {
   "cell_type": "code",
   "execution_count": 16,
   "metadata": {
    "execution": {
     "iopub.execute_input": "2024-12-11T13:53:40.729104Z",
     "iopub.status.busy": "2024-12-11T13:53:40.728326Z",
     "iopub.status.idle": "2024-12-11T13:53:41.861899Z",
     "shell.execute_reply": "2024-12-11T13:53:41.861143Z",
     "shell.execute_reply.started": "2024-12-11T13:53:40.729075Z"
    },
    "id": "uYfEbOGoe-8c"
   },
   "outputs": [],
   "source": [
    "min_freq = 2\n",
    "unk_token = \"<unk>\"\n",
    "pad_token = \"<pad>\"\n",
    "\n",
    "special_tokens = [\n",
    "    unk_token,\n",
    "    pad_token,\n",
    "    sos_token,\n",
    "    eos_token,\n",
    "]\n",
    "\n",
    "en_vocab = torchtext.vocab.build_vocab_from_iterator(\n",
    "    train_dataset[\"en_tokens\"],\n",
    "    min_freq=min_freq,\n",
    "    specials=special_tokens,\n",
    ")\n",
    "\n",
    "sl_vocab = torchtext.vocab.build_vocab_from_iterator(\n",
    "    train_dataset[\"sl_tokens\"],\n",
    "    min_freq=min_freq,\n",
    "    specials=special_tokens,\n",
    ")"
   ]
  },
  {
   "cell_type": "code",
   "execution_count": 17,
   "metadata": {
    "execution": {
     "iopub.execute_input": "2024-12-11T13:53:41.863217Z",
     "iopub.status.busy": "2024-12-11T13:53:41.862943Z",
     "iopub.status.idle": "2024-12-11T13:53:41.868919Z",
     "shell.execute_reply": "2024-12-11T13:53:41.867961Z",
     "shell.execute_reply.started": "2024-12-11T13:53:41.863191Z"
    },
    "id": "8506RQvre-8c",
    "outputId": "13410583-9faa-4f73-b8d9-693c57a3ef48"
   },
   "outputs": [
    {
     "name": "stdout",
     "output_type": "stream",
     "text": [
      "0\n",
      "1\n",
      "4\n"
     ]
    }
   ],
   "source": [
    "assert en_vocab[unk_token] == sl_vocab[unk_token]\n",
    "assert en_vocab[pad_token] == sl_vocab[pad_token]\n",
    "\n",
    "unk_index = en_vocab[unk_token]\n",
    "pad_index = en_vocab[pad_token]\n",
    "\n",
    "print(unk_index)\n",
    "print(pad_index)\n",
    "\n",
    "print(en_vocab['the'])"
   ]
  },
  {
   "cell_type": "code",
   "execution_count": 18,
   "metadata": {
    "execution": {
     "iopub.execute_input": "2024-12-11T13:53:41.870255Z",
     "iopub.status.busy": "2024-12-11T13:53:41.869977Z",
     "iopub.status.idle": "2024-12-11T13:53:41.882609Z",
     "shell.execute_reply": "2024-12-11T13:53:41.881838Z",
     "shell.execute_reply.started": "2024-12-11T13:53:41.870213Z"
    },
    "id": "jM5ooj0ye-8c"
   },
   "outputs": [],
   "source": [
    "en_vocab.set_default_index(unk_index)\n",
    "sl_vocab.set_default_index(unk_index)"
   ]
  },
  {
   "cell_type": "code",
   "execution_count": 19,
   "metadata": {
    "execution": {
     "iopub.execute_input": "2024-12-11T13:53:41.884065Z",
     "iopub.status.busy": "2024-12-11T13:53:41.883751Z",
     "iopub.status.idle": "2024-12-11T13:53:41.893280Z",
     "shell.execute_reply": "2024-12-11T13:53:41.892405Z",
     "shell.execute_reply.started": "2024-12-11T13:53:41.884039Z"
    },
    "id": "5Vfel6Yye-8c"
   },
   "outputs": [],
   "source": [
    "def numericalize_example(example, en_vocab, sl_vocab):\n",
    "    en_ids = en_vocab.lookup_indices(example[\"en_tokens\"])\n",
    "    sl_ids = sl_vocab.lookup_indices(example[\"sl_tokens\"])\n",
    "    return {\"en_ids\": en_ids, \"sl_ids\": sl_ids}\n"
   ]
  },
  {
   "cell_type": "code",
   "execution_count": 20,
   "metadata": {
    "colab": {
     "referenced_widgets": [
      "5df16df246ca48b5a3d76d42326ed6fe",
      "ea61565211c743c0a4f74560d0b3a949"
     ]
    },
    "execution": {
     "iopub.execute_input": "2024-12-11T13:53:41.895019Z",
     "iopub.status.busy": "2024-12-11T13:53:41.894495Z",
     "iopub.status.idle": "2024-12-11T13:53:42.046733Z",
     "shell.execute_reply": "2024-12-11T13:53:42.046036Z",
     "shell.execute_reply.started": "2024-12-11T13:53:41.894990Z"
    },
    "id": "0jDCT62ie-8c",
    "outputId": "59c88c1f-0e31-48de-f4f1-c23bac7cc3ba"
   },
   "outputs": [],
   "source": [
    "fn_kwargs = {\n",
    "    \"en_vocab\": en_vocab,\n",
    "    \"sl_vocab\": sl_vocab\n",
    "}\n",
    "\n",
    "train_dataset = train_dataset.map(numericalize_example, fn_kwargs=fn_kwargs)\n",
    "valid_dataset = valid_dataset.map(numericalize_example, fn_kwargs=fn_kwargs)"
   ]
  },
  {
   "cell_type": "code",
   "execution_count": 21,
   "metadata": {
    "execution": {
     "iopub.execute_input": "2024-12-11T13:53:42.048051Z",
     "iopub.status.busy": "2024-12-11T13:53:42.047768Z",
     "iopub.status.idle": "2024-12-11T13:53:42.055382Z",
     "shell.execute_reply": "2024-12-11T13:53:42.054501Z",
     "shell.execute_reply.started": "2024-12-11T13:53:42.048024Z"
    },
    "id": "e6yvaBK4e-8c",
    "outputId": "35cf6bfe-4b08-462f-e57e-42b0bcbbc7ec"
   },
   "outputs": [
    {
     "data": {
      "text/plain": [
       "{'en': 'It is time that advertisements give consumers more details of the fuel economy and emission performance of the vehicles on sale.',\n",
       " 'sl': 'Zdaj je pravi čas, da se potrošnikom v oglasnih sporočilih zagotovi več podrobnosti v zvezi z ekonomičnostjo porabe goriva in oddajanjem emisij iz vozil, ki so naprodaj.',\n",
       " 'en_tokens': ['<sos>',\n",
       "  'it',\n",
       "  'is',\n",
       "  'time',\n",
       "  'that',\n",
       "  'advertisements',\n",
       "  'give',\n",
       "  'consumers',\n",
       "  'more',\n",
       "  'details',\n",
       "  'of',\n",
       "  'the',\n",
       "  'fuel',\n",
       "  'economy',\n",
       "  'and',\n",
       "  'emission',\n",
       "  'performance',\n",
       "  'of',\n",
       "  'the',\n",
       "  'vehicles',\n",
       "  'on',\n",
       "  'sale',\n",
       "  '.',\n",
       "  '<eos>'],\n",
       " 'sl_tokens': ['<sos>',\n",
       "  'zdaj',\n",
       "  'je',\n",
       "  'pravi',\n",
       "  'čas',\n",
       "  ',',\n",
       "  'da',\n",
       "  'se',\n",
       "  'potrošnikom',\n",
       "  'v',\n",
       "  'oglasnih',\n",
       "  'sporočilih',\n",
       "  'zagotovi',\n",
       "  'več',\n",
       "  'podrobnosti',\n",
       "  'v',\n",
       "  'zvezi',\n",
       "  'z',\n",
       "  'ekonomičnostjo',\n",
       "  'porabe',\n",
       "  'goriva',\n",
       "  'in',\n",
       "  'oddajanjem',\n",
       "  'emisij',\n",
       "  'iz',\n",
       "  'vozil',\n",
       "  ',',\n",
       "  'ki',\n",
       "  'so',\n",
       "  'naprodaj',\n",
       "  '.',\n",
       "  '<eos>'],\n",
       " 'en_ids': [2,\n",
       "  20,\n",
       "  12,\n",
       "  94,\n",
       "  11,\n",
       "  0,\n",
       "  309,\n",
       "  303,\n",
       "  56,\n",
       "  2063,\n",
       "  7,\n",
       "  4,\n",
       "  1221,\n",
       "  384,\n",
       "  9,\n",
       "  2237,\n",
       "  2180,\n",
       "  7,\n",
       "  4,\n",
       "  1048,\n",
       "  17,\n",
       "  3606,\n",
       "  6,\n",
       "  3],\n",
       " 'sl_ids': [2,\n",
       "  72,\n",
       "  8,\n",
       "  714,\n",
       "  283,\n",
       "  4,\n",
       "  9,\n",
       "  12,\n",
       "  1033,\n",
       "  7,\n",
       "  0,\n",
       "  6704,\n",
       "  545,\n",
       "  63,\n",
       "  3255,\n",
       "  7,\n",
       "  35,\n",
       "  17,\n",
       "  0,\n",
       "  1465,\n",
       "  1384,\n",
       "  6,\n",
       "  0,\n",
       "  698,\n",
       "  47,\n",
       "  654,\n",
       "  4,\n",
       "  13,\n",
       "  15,\n",
       "  11830,\n",
       "  5,\n",
       "  3]}"
      ]
     },
     "execution_count": 21,
     "metadata": {},
     "output_type": "execute_result"
    }
   ],
   "source": [
    "train_dataset[21]"
   ]
  },
  {
   "cell_type": "code",
   "execution_count": 22,
   "metadata": {
    "execution": {
     "iopub.execute_input": "2024-12-11T13:53:42.059673Z",
     "iopub.status.busy": "2024-12-11T13:53:42.059347Z",
     "iopub.status.idle": "2024-12-11T13:53:42.071633Z",
     "shell.execute_reply": "2024-12-11T13:53:42.070925Z",
     "shell.execute_reply.started": "2024-12-11T13:53:42.059647Z"
    },
    "id": "yJTydTwue-8d"
   },
   "outputs": [],
   "source": [
    "data_type = \"torch\"\n",
    "format_columns = [\"en_ids\", \"sl_ids\"]\n",
    "\n",
    "train_dataset = train_dataset.with_format(\n",
    "    type=data_type,\n",
    "    columns=format_columns,\n",
    "    output_all_columns=True\n",
    ")\n",
    "\n",
    "valid_dataset = valid_dataset.with_format(\n",
    "    type=data_type,\n",
    "    columns=format_columns,\n",
    "    output_all_columns=True,\n",
    ")"
   ]
  },
  {
   "cell_type": "code",
   "execution_count": 23,
   "metadata": {
    "execution": {
     "iopub.execute_input": "2024-12-11T13:53:42.073109Z",
     "iopub.status.busy": "2024-12-11T13:53:42.072775Z",
     "iopub.status.idle": "2024-12-11T13:53:42.081667Z",
     "shell.execute_reply": "2024-12-11T13:53:42.080784Z",
     "shell.execute_reply.started": "2024-12-11T13:53:42.073072Z"
    },
    "id": "Q-vOAVaIe-8d"
   },
   "outputs": [],
   "source": [
    "def get_collate_fn(pad_index):\n",
    "    \n",
    "    def collate_fn(batch):\n",
    "        batch_en_ids = [example[\"en_ids\"] for example in batch]\n",
    "        batch_sl_ids = [example[\"sl_ids\"] for example in batch]\n",
    "        batch_en_ids = nn.utils.rnn.pad_sequence(batch_en_ids, padding_value=pad_index)\n",
    "        batch_sl_ids = nn.utils.rnn.pad_sequence(batch_sl_ids, padding_value=pad_index)\n",
    "        batch = {\n",
    "            \"en_ids\": batch_en_ids,\n",
    "            \"sl_ids\": batch_sl_ids,\n",
    "        }\n",
    "        return batch\n",
    "\n",
    "    return collate_fn"
   ]
  },
  {
   "cell_type": "code",
   "execution_count": 24,
   "metadata": {
    "execution": {
     "iopub.execute_input": "2024-12-11T13:53:42.083508Z",
     "iopub.status.busy": "2024-12-11T13:53:42.082881Z",
     "iopub.status.idle": "2024-12-11T13:53:42.094209Z",
     "shell.execute_reply": "2024-12-11T13:53:42.093496Z",
     "shell.execute_reply.started": "2024-12-11T13:53:42.083467Z"
    },
    "id": "s1UsDAUze-8d"
   },
   "outputs": [],
   "source": [
    "def get_data_loader(dataset, batch_size, pad_index, shuffle=False):\n",
    "\n",
    "    collate_fn = get_collate_fn(pad_index)\n",
    "\n",
    "    data_loader = torch.utils.data.DataLoader(\n",
    "        dataset=dataset,\n",
    "        batch_size=batch_size,\n",
    "        collate_fn=collate_fn,\n",
    "        shuffle=shuffle,\n",
    "    )\n",
    "\n",
    "    return data_loader"
   ]
  },
  {
   "cell_type": "code",
   "execution_count": 25,
   "metadata": {
    "execution": {
     "iopub.execute_input": "2024-12-11T13:53:42.095461Z",
     "iopub.status.busy": "2024-12-11T13:53:42.095159Z",
     "iopub.status.idle": "2024-12-11T13:53:42.104630Z",
     "shell.execute_reply": "2024-12-11T13:53:42.103839Z",
     "shell.execute_reply.started": "2024-12-11T13:53:42.095414Z"
    },
    "id": "zodcICm2e-8d"
   },
   "outputs": [],
   "source": [
    "batch_size = 32\n",
    "\n",
    "train_data_loader = get_data_loader(train_dataset, batch_size, pad_index, shuffle=True)\n",
    "valid_data_loader = get_data_loader(valid_dataset, batch_size, pad_index)"
   ]
  },
  {
   "cell_type": "code",
   "execution_count": 26,
   "metadata": {
    "execution": {
     "iopub.execute_input": "2024-12-11T13:53:42.105869Z",
     "iopub.status.busy": "2024-12-11T13:53:42.105595Z",
     "iopub.status.idle": "2024-12-11T13:53:42.127624Z",
     "shell.execute_reply": "2024-12-11T13:53:42.126769Z",
     "shell.execute_reply.started": "2024-12-11T13:53:42.105846Z"
    },
    "id": "w-GmSx8Pe-8d",
    "outputId": "c81c71ac-4982-4692-c1b8-c81607a8db3e"
   },
   "outputs": [
    {
     "name": "stdout",
     "output_type": "stream",
     "text": [
      "EN IDs tensor(8047)\n",
      "SL IDs : tensor(14367)\n"
     ]
    }
   ],
   "source": [
    "batch = next(iter(train_data_loader))\n",
    "print(\"EN IDs\", batch[\"en_ids\"].max())\n",
    "print(\"SL IDs :\", batch[\"sl_ids\"].max())"
   ]
  },
  {
   "cell_type": "code",
   "execution_count": 27,
   "metadata": {
    "execution": {
     "iopub.execute_input": "2024-12-11T13:53:42.128929Z",
     "iopub.status.busy": "2024-12-11T13:53:42.128659Z",
     "iopub.status.idle": "2024-12-11T13:53:42.135084Z",
     "shell.execute_reply": "2024-12-11T13:53:42.134222Z",
     "shell.execute_reply.started": "2024-12-11T13:53:42.128904Z"
    },
    "id": "psPjoevEe-8e"
   },
   "outputs": [],
   "source": [
    "class Encoder(nn.Module):\n",
    "    def __init__(self, input_dim, embedding_dim, encoder_hidden_dim, decoder_hidden_dim):\n",
    "        super().__init__()\n",
    "        self.embedding = nn.Embedding(input_dim, embedding_dim)\n",
    "        self.rnn = nn.GRU(embedding_dim, encoder_hidden_dim, bidirectional = True)\n",
    "        self.fc = nn.Linear(encoder_hidden_dim * 2, decoder_hidden_dim)\n",
    "        self.dropout = nn.Dropout(0.32)\n",
    "\n",
    "    def forward(self, src):\n",
    "        embedded = self.dropout(self.embedding(src))\n",
    "        outputs, hidden = self.rnn(embedded)\n",
    "        hidden = torch.tanh(self.fc(torch.cat((hidden[-2,:,:], hidden[-1,:,:]), dim=1)))\n",
    "\n",
    "        return outputs, hidden"
   ]
  },
  {
   "cell_type": "code",
   "execution_count": 28,
   "metadata": {
    "execution": {
     "iopub.execute_input": "2024-12-11T13:53:42.136634Z",
     "iopub.status.busy": "2024-12-11T13:53:42.136275Z",
     "iopub.status.idle": "2024-12-11T13:53:42.145311Z",
     "shell.execute_reply": "2024-12-11T13:53:42.144462Z",
     "shell.execute_reply.started": "2024-12-11T13:53:42.136596Z"
    },
    "id": "OJuPVODHe-8e"
   },
   "outputs": [],
   "source": [
    "class Attention(nn.Module):\n",
    "    def __init__(self, encoder_hidden_dim, decoder_hidden_dim):\n",
    "        super().__init__()\n",
    "        self.attn_fc = nn.Linear(\n",
    "            (encoder_hidden_dim * 2) + decoder_hidden_dim,\n",
    "            decoder_hidden_dim\n",
    "        )\n",
    "        self.v_fc = nn.Linear(decoder_hidden_dim, 1, bias=False)\n",
    "\n",
    "    def forward(self, hidden, encoder_outputs):\n",
    "        batch_size = encoder_outputs.shape[1]\n",
    "        src_length = encoder_outputs.shape[0]\n",
    "\n",
    "        hidden = hidden.unsqueeze(1).repeat(1, src_length, 1)\n",
    "        encoder_outputs = encoder_outputs.permute(1, 0, 2)\n",
    "\n",
    "        energy = torch.tanh(self.attn_fc(torch.cat((hidden, encoder_outputs), dim=2)))\n",
    "        attention = self.v_fc(energy).squeeze(2)\n",
    "\n",
    "        return torch.softmax(attention, dim=1)\n"
   ]
  },
  {
   "cell_type": "code",
   "execution_count": 29,
   "metadata": {
    "execution": {
     "iopub.execute_input": "2024-12-11T13:53:42.146702Z",
     "iopub.status.busy": "2024-12-11T13:53:42.146376Z",
     "iopub.status.idle": "2024-12-11T13:53:42.157364Z",
     "shell.execute_reply": "2024-12-11T13:53:42.156500Z",
     "shell.execute_reply.started": "2024-12-11T13:53:42.146676Z"
    },
    "id": "J2KHilvSe-8e"
   },
   "outputs": [],
   "source": [
    "class Decoder(nn.Module):\n",
    "    def __init__(\n",
    "        self,\n",
    "        output_dim,\n",
    "        embedding_dim,\n",
    "        encoder_hidden_dim,\n",
    "        decoder_hidden_dim,\n",
    "        attention,\n",
    "    ):\n",
    "        super().__init__()\n",
    "        self.output_dim = output_dim\n",
    "        self.attention = attention\n",
    "        self.embedding = nn.Embedding(output_dim, embedding_dim)\n",
    "        self.rnn = nn.GRU((encoder_hidden_dim * 2) + embedding_dim, decoder_hidden_dim)\n",
    "        self.fc_out = nn.Linear(\n",
    "            (encoder_hidden_dim * 2) + decoder_hidden_dim + embedding_dim,\n",
    "            output_dim\n",
    "        )\n",
    "        self.dropout = nn.Dropout(0.32)\n",
    "\n",
    "    def forward(self, input, hidden, encoder_outputs):\n",
    "        input = input.unsqueeze(0)\n",
    "        embedded = self.dropout(self.embedding(input))\n",
    "        \n",
    "        a = self.attention(hidden, encoder_outputs)\n",
    "        a = a.unsqueeze(1)\n",
    "        \n",
    "        encoder_outputs = encoder_outputs.permute(1, 0, 2)\n",
    "        weighted = torch.bmm(a, encoder_outputs)\n",
    "        weighted = weighted.permute(1, 0, 2)\n",
    "        rnn_input = torch.cat((embedded, weighted), dim = 2)\n",
    "        output, hidden = self.rnn(rnn_input, hidden.unsqueeze(0))\n",
    "       \n",
    "        assert (output == hidden).all()\n",
    "        \n",
    "        embedded = embedded.squeeze(0)\n",
    "        output = output.squeeze(0)\n",
    "        weighted = weighted.squeeze(0)\n",
    "        prediction = self.fc_out(torch.cat((output, weighted, embedded), dim=1))\n",
    "        \n",
    "        return prediction, hidden.squeeze(0), a.squeeze(1)"
   ]
  },
  {
   "cell_type": "code",
   "execution_count": 30,
   "metadata": {
    "execution": {
     "iopub.execute_input": "2024-12-11T13:53:42.158748Z",
     "iopub.status.busy": "2024-12-11T13:53:42.158498Z",
     "iopub.status.idle": "2024-12-11T13:53:42.170071Z",
     "shell.execute_reply": "2024-12-11T13:53:42.169387Z",
     "shell.execute_reply.started": "2024-12-11T13:53:42.158725Z"
    },
    "id": "JIpWkKQ4e-8e"
   },
   "outputs": [],
   "source": [
    "input_dim = len(sl_vocab)\n",
    "output_dim = len(en_vocab)\n",
    "encoder_embedding_dim = 128\n",
    "decoder_embedding_dim = 128\n",
    "encoder_hidden_dim = 256\n",
    "decoder_hidden_dim = 256\n",
    "device = torch.device(\"cuda\" if torch.cuda.is_available() else \"cpu\")\n",
    "model_dir = '/kaggle/working'"
   ]
  },
  {
   "cell_type": "code",
   "execution_count": 31,
   "metadata": {
    "execution": {
     "iopub.execute_input": "2024-12-11T13:53:42.171291Z",
     "iopub.status.busy": "2024-12-11T13:53:42.171023Z",
     "iopub.status.idle": "2024-12-11T13:53:42.180729Z",
     "shell.execute_reply": "2024-12-11T13:53:42.179981Z",
     "shell.execute_reply.started": "2024-12-11T13:53:42.171268Z"
    },
    "id": "EqI5b1Mne-8e"
   },
   "outputs": [],
   "source": [
    "class Seq2Seq(nn.Module):\n",
    "    def __init__(self, encoder, decoder, device):\n",
    "        super().__init__()\n",
    "        self.encoder = encoder\n",
    "        self.decoder = decoder\n",
    "        self.device = device\n",
    "\n",
    "    def forward(self, src, trg, teacher_forcing_ratio):\n",
    "        batch_size = src.shape[1]\n",
    "        trg_length = trg.shape[0]\n",
    "        trg_vocab_size = self.decoder.output_dim\n",
    "        \n",
    "        outputs = torch.zeros(trg_length, batch_size, trg_vocab_size).to(self.device)\n",
    "        encoder_outputs, hidden = self.encoder(src)\n",
    "       \n",
    "        input = trg[0,:]\n",
    "        for t in range(1, trg_length):\n",
    "            output, hidden, _ = self.decoder(input, hidden, encoder_outputs)\n",
    "            outputs[t] = output\n",
    "            teacher_force = random.random() < teacher_forcing_ratio\n",
    "            top1 = output.argmax(1)\n",
    "            input = trg[t] if teacher_force else top1\n",
    "        return outputs"
   ]
  },
  {
   "cell_type": "code",
   "execution_count": 32,
   "metadata": {
    "execution": {
     "iopub.execute_input": "2024-12-11T13:53:42.182118Z",
     "iopub.status.busy": "2024-12-11T13:53:42.181852Z",
     "iopub.status.idle": "2024-12-11T13:53:43.453135Z",
     "shell.execute_reply": "2024-12-11T13:53:43.452248Z",
     "shell.execute_reply.started": "2024-12-11T13:53:42.182078Z"
    },
    "id": "ZYAz7UWie-8f",
    "outputId": "e3f8548f-96fd-4ea0-fe90-41302a9ff476"
   },
   "outputs": [
    {
     "data": {
      "text/plain": [
       "Seq2Seq(\n",
       "  (encoder): Encoder(\n",
       "    (embedding): Embedding(14491, 128)\n",
       "    (rnn): GRU(128, 256, bidirectional=True)\n",
       "    (fc): Linear(in_features=512, out_features=256, bias=True)\n",
       "    (dropout): Dropout(p=0.32, inplace=False)\n",
       "  )\n",
       "  (decoder): Decoder(\n",
       "    (attention): Attention(\n",
       "      (attn_fc): Linear(in_features=768, out_features=256, bias=True)\n",
       "      (v_fc): Linear(in_features=256, out_features=1, bias=False)\n",
       "    )\n",
       "    (embedding): Embedding(8429, 128)\n",
       "    (rnn): GRU(640, 256)\n",
       "    (fc_out): Linear(in_features=896, out_features=8429, bias=True)\n",
       "    (dropout): Dropout(p=0.32, inplace=False)\n",
       "  )\n",
       ")"
      ]
     },
     "execution_count": 32,
     "metadata": {},
     "output_type": "execute_result"
    }
   ],
   "source": [
    "attention = Attention(encoder_hidden_dim, decoder_hidden_dim)\n",
    "\n",
    "encoder = Encoder(\n",
    "    input_dim,\n",
    "    encoder_embedding_dim,\n",
    "    encoder_hidden_dim,\n",
    "    decoder_hidden_dim\n",
    ")\n",
    "\n",
    "decoder = Decoder(\n",
    "    output_dim,\n",
    "    decoder_embedding_dim,\n",
    "    encoder_hidden_dim,\n",
    "    decoder_hidden_dim,\n",
    "    attention,\n",
    ")\n",
    "\n",
    "model = Seq2Seq(encoder, decoder, device).to(device)\n",
    "model"
   ]
  },
  {
   "cell_type": "code",
   "execution_count": 33,
   "metadata": {
    "execution": {
     "iopub.execute_input": "2024-12-11T13:53:43.454607Z",
     "iopub.status.busy": "2024-12-11T13:53:43.454321Z",
     "iopub.status.idle": "2024-12-11T13:53:43.462594Z",
     "shell.execute_reply": "2024-12-11T13:53:43.461702Z",
     "shell.execute_reply.started": "2024-12-11T13:53:43.454581Z"
    },
    "id": "f1ssCHmRe-8f",
    "outputId": "b42dfb02-8757-4bcc-89df-f53c19d390a2"
   },
   "outputs": [
    {
     "data": {
      "text/plain": [
       "Seq2Seq(\n",
       "  (encoder): Encoder(\n",
       "    (embedding): Embedding(14491, 128)\n",
       "    (rnn): GRU(128, 256, bidirectional=True)\n",
       "    (fc): Linear(in_features=512, out_features=256, bias=True)\n",
       "    (dropout): Dropout(p=0.32, inplace=False)\n",
       "  )\n",
       "  (decoder): Decoder(\n",
       "    (attention): Attention(\n",
       "      (attn_fc): Linear(in_features=768, out_features=256, bias=True)\n",
       "      (v_fc): Linear(in_features=256, out_features=1, bias=False)\n",
       "    )\n",
       "    (embedding): Embedding(8429, 128)\n",
       "    (rnn): GRU(640, 256)\n",
       "    (fc_out): Linear(in_features=896, out_features=8429, bias=True)\n",
       "    (dropout): Dropout(p=0.32, inplace=False)\n",
       "  )\n",
       ")"
      ]
     },
     "execution_count": 33,
     "metadata": {},
     "output_type": "execute_result"
    }
   ],
   "source": [
    "def init_weights(m):\n",
    "    for name, param in m.named_parameters():\n",
    "        if \"weight\" in name:\n",
    "            nn.init.normal_(param.data, mean=0, std=0.01)\n",
    "        else:\n",
    "            nn.init.constant_(param.data, 0)\n",
    "\n",
    "model.apply(init_weights)"
   ]
  },
  {
   "cell_type": "code",
   "execution_count": 34,
   "metadata": {
    "execution": {
     "iopub.execute_input": "2024-12-11T13:53:43.463869Z",
     "iopub.status.busy": "2024-12-11T13:53:43.463617Z",
     "iopub.status.idle": "2024-12-11T13:53:43.474297Z",
     "shell.execute_reply": "2024-12-11T13:53:43.473483Z",
     "shell.execute_reply.started": "2024-12-11T13:53:43.463845Z"
    },
    "id": "b3jgGgOMe-8f"
   },
   "outputs": [],
   "source": [
    "optimizer = optim.Adam(model.parameters())\n",
    "criterion = nn.CrossEntropyLoss(ignore_index=pad_index)"
   ]
  },
  {
   "cell_type": "code",
   "execution_count": 35,
   "metadata": {
    "execution": {
     "iopub.execute_input": "2024-12-11T13:53:43.475739Z",
     "iopub.status.busy": "2024-12-11T13:53:43.475396Z",
     "iopub.status.idle": "2024-12-11T13:53:43.484898Z",
     "shell.execute_reply": "2024-12-11T13:53:43.484121Z",
     "shell.execute_reply.started": "2024-12-11T13:53:43.475712Z"
    },
    "id": "GnIaXcUJe-8f"
   },
   "outputs": [],
   "source": [
    "torch.cuda.empty_cache()"
   ]
  },
  {
   "cell_type": "code",
   "execution_count": 36,
   "metadata": {
    "execution": {
     "iopub.execute_input": "2024-12-11T13:53:43.486155Z",
     "iopub.status.busy": "2024-12-11T13:53:43.485904Z",
     "iopub.status.idle": "2024-12-11T13:53:43.498397Z",
     "shell.execute_reply": "2024-12-11T13:53:43.497725Z",
     "shell.execute_reply.started": "2024-12-11T13:53:43.486131Z"
    },
    "id": "jreOYAGOe-8f"
   },
   "outputs": [],
   "source": [
    "def train_fn(model, data_loader, optimizer, criterion, clip, teacher_forcing_ratio, device):\n",
    "    model.train()\n",
    "    epoch_loss = 0\n",
    "    for i, batch in tqdm(enumerate(data_loader)):\n",
    "        src = batch[\"sl_ids\"].to(device)\n",
    "        trg = batch[\"en_ids\"].to(device)\n",
    "\n",
    "        optimizer.zero_grad()\n",
    "        output = model(src, trg, teacher_forcing_ratio)\n",
    "        output_dim = output.shape[-1]\n",
    "        output = output[1:].view(-1, output_dim)\n",
    "        trg = trg[1:].view(-1)\n",
    "        loss = criterion(output, trg)\n",
    "        loss.backward()\n",
    "        torch.nn.utils.clip_grad_norm_(model.parameters(), clip)\n",
    "        optimizer.step()\n",
    "        epoch_loss += loss.item()\n",
    "        torch.cuda.empty_cache()\n",
    "    return epoch_loss / len(data_loader)\n",
    "\n",
    "def evaluate_fn(model, data_loader, criterion, device):\n",
    "    model.eval()\n",
    "    epoch_loss = 0\n",
    "    with torch.no_grad():\n",
    "        for i, batch in enumerate(data_loader):\n",
    "            src = batch[\"sl_ids\"].to(device)\n",
    "            trg = batch[\"en_ids\"].to(device)\n",
    "       \n",
    "            output = model(src, trg, 0)\n",
    "            output_dim = output.shape[-1]\n",
    "            output = output[1:].view(-1, output_dim)\n",
    "            trg = trg[1:].view(-1)\n",
    "            loss = criterion(output, trg)\n",
    "            epoch_loss += loss.item()\n",
    "    return epoch_loss / len(data_loader)"
   ]
  },
  {
   "cell_type": "code",
   "execution_count": 37,
   "metadata": {
    "colab": {
     "referenced_widgets": [
      "ec82b6cd6f59499088164a8b0c223624",
      "fb4c95f2ae6d4b1ab123bd12cb4a293f",
      "865bde173dd24cad9e9e030352465565",
      "12337e832759449195431665550ab07b",
      "dde3256b3e6a41fe8ca543938b54b266",
      "da4ab084ae34491e9265bb16e209d979"
     ]
    },
    "execution": {
     "iopub.execute_input": "2024-12-11T13:53:43.499727Z",
     "iopub.status.busy": "2024-12-11T13:53:43.499463Z",
     "iopub.status.idle": "2024-12-11T14:27:08.471333Z",
     "shell.execute_reply": "2024-12-11T14:27:08.470321Z",
     "shell.execute_reply.started": "2024-12-11T13:53:43.499702Z"
    },
    "id": "7ywZJRype-8g",
    "outputId": "c2b26ef5-40f2-4e26-eed5-45c8c4123869"
   },
   "outputs": [
    {
     "data": {
      "application/vnd.jupyter.widget-view+json": {
       "model_id": "f1fe4259d6b148898467f93f919c5ba0",
       "version_major": 2,
       "version_minor": 0
      },
      "text/plain": [
       "  0%|          | 0/12 [00:00<?, ?it/s]"
      ]
     },
     "metadata": {},
     "output_type": "display_data"
    },
    {
     "data": {
      "application/vnd.jupyter.widget-view+json": {
       "model_id": "12be1f7254514dd79d124c0852804a2b",
       "version_major": 2,
       "version_minor": 0
      },
      "text/plain": [
       "0it [00:00, ?it/s]"
      ]
     },
     "metadata": {},
     "output_type": "display_data"
    },
    {
     "name": "stdout",
     "output_type": "stream",
     "text": [
      "\tTrain Loss:   5.945\n",
      "\tValid Loss:   5.891\n"
     ]
    },
    {
     "data": {
      "application/vnd.jupyter.widget-view+json": {
       "model_id": "120ec1ce146e4b01956ff9a878fdc373",
       "version_major": 2,
       "version_minor": 0
      },
      "text/plain": [
       "0it [00:00, ?it/s]"
      ]
     },
     "metadata": {},
     "output_type": "display_data"
    },
    {
     "name": "stdout",
     "output_type": "stream",
     "text": [
      "\tTrain Loss:   5.298\n",
      "\tValid Loss:   5.669\n"
     ]
    },
    {
     "data": {
      "application/vnd.jupyter.widget-view+json": {
       "model_id": "0f8de4e65165408b9d44c6041cb0d1a8",
       "version_major": 2,
       "version_minor": 0
      },
      "text/plain": [
       "0it [00:00, ?it/s]"
      ]
     },
     "metadata": {},
     "output_type": "display_data"
    },
    {
     "name": "stdout",
     "output_type": "stream",
     "text": [
      "\tTrain Loss:   4.915\n",
      "\tValid Loss:   5.475\n"
     ]
    },
    {
     "data": {
      "application/vnd.jupyter.widget-view+json": {
       "model_id": "42eff2c3924b474bb2c93726d4352265",
       "version_major": 2,
       "version_minor": 0
      },
      "text/plain": [
       "0it [00:00, ?it/s]"
      ]
     },
     "metadata": {},
     "output_type": "display_data"
    },
    {
     "name": "stdout",
     "output_type": "stream",
     "text": [
      "\tTrain Loss:   4.556\n",
      "\tValid Loss:   5.274\n"
     ]
    },
    {
     "data": {
      "application/vnd.jupyter.widget-view+json": {
       "model_id": "075d6e49e1f8412c81433ce6b215c991",
       "version_major": 2,
       "version_minor": 0
      },
      "text/plain": [
       "0it [00:00, ?it/s]"
      ]
     },
     "metadata": {},
     "output_type": "display_data"
    },
    {
     "name": "stdout",
     "output_type": "stream",
     "text": [
      "\tTrain Loss:   4.207\n",
      "\tValid Loss:   5.176\n"
     ]
    },
    {
     "data": {
      "application/vnd.jupyter.widget-view+json": {
       "model_id": "aaf075d3b4364bc6aa5e7a31b69352e0",
       "version_major": 2,
       "version_minor": 0
      },
      "text/plain": [
       "0it [00:00, ?it/s]"
      ]
     },
     "metadata": {},
     "output_type": "display_data"
    },
    {
     "name": "stdout",
     "output_type": "stream",
     "text": [
      "\tTrain Loss:   3.878\n",
      "\tValid Loss:   5.097\n"
     ]
    },
    {
     "data": {
      "application/vnd.jupyter.widget-view+json": {
       "model_id": "a5a296e9d1a84f388b37c3663a9d103a",
       "version_major": 2,
       "version_minor": 0
      },
      "text/plain": [
       "0it [00:00, ?it/s]"
      ]
     },
     "metadata": {},
     "output_type": "display_data"
    },
    {
     "name": "stdout",
     "output_type": "stream",
     "text": [
      "\tTrain Loss:   3.620\n",
      "\tValid Loss:   5.118\n"
     ]
    },
    {
     "data": {
      "application/vnd.jupyter.widget-view+json": {
       "model_id": "8a9d31aa2f4642fbbd7ba5a3e9c1ffd3",
       "version_major": 2,
       "version_minor": 0
      },
      "text/plain": [
       "0it [00:00, ?it/s]"
      ]
     },
     "metadata": {},
     "output_type": "display_data"
    },
    {
     "name": "stdout",
     "output_type": "stream",
     "text": [
      "\tTrain Loss:   3.362\n",
      "\tValid Loss:   5.135\n"
     ]
    },
    {
     "data": {
      "application/vnd.jupyter.widget-view+json": {
       "model_id": "807913da65c247988173d80646e8cf9f",
       "version_major": 2,
       "version_minor": 0
      },
      "text/plain": [
       "0it [00:00, ?it/s]"
      ]
     },
     "metadata": {},
     "output_type": "display_data"
    },
    {
     "name": "stdout",
     "output_type": "stream",
     "text": [
      "\tTrain Loss:   3.160\n",
      "\tValid Loss:   5.128\n"
     ]
    },
    {
     "data": {
      "application/vnd.jupyter.widget-view+json": {
       "model_id": "b0369e2dd305486ca6d1df5233dcedc7",
       "version_major": 2,
       "version_minor": 0
      },
      "text/plain": [
       "0it [00:00, ?it/s]"
      ]
     },
     "metadata": {},
     "output_type": "display_data"
    },
    {
     "name": "stdout",
     "output_type": "stream",
     "text": [
      "\tTrain Loss:   2.970\n",
      "\tValid Loss:   5.192\n"
     ]
    },
    {
     "data": {
      "application/vnd.jupyter.widget-view+json": {
       "model_id": "cb4a2ce1ef0941de9f888054ee876f75",
       "version_major": 2,
       "version_minor": 0
      },
      "text/plain": [
       "0it [00:00, ?it/s]"
      ]
     },
     "metadata": {},
     "output_type": "display_data"
    },
    {
     "name": "stdout",
     "output_type": "stream",
     "text": [
      "\tTrain Loss:   2.818\n",
      "\tValid Loss:   5.200\n"
     ]
    },
    {
     "data": {
      "application/vnd.jupyter.widget-view+json": {
       "model_id": "097e1ab82cdf4132b4c60834bf0371f7",
       "version_major": 2,
       "version_minor": 0
      },
      "text/plain": [
       "0it [00:00, ?it/s]"
      ]
     },
     "metadata": {},
     "output_type": "display_data"
    },
    {
     "name": "stdout",
     "output_type": "stream",
     "text": [
      "\tTrain Loss:   2.689\n",
      "\tValid Loss:   5.287\n"
     ]
    }
   ],
   "source": [
    "n_epochs = 12\n",
    "clip = 1.0\n",
    "teacher_forcing_ratio = 0.5\n",
    "train_losses = []\n",
    "val_losses = []\n",
    "best_valid_loss = float(\"inf\")\n",
    "\n",
    "for epoch in tqdm(range(n_epochs)):\n",
    "\n",
    "    train_loss = train_fn(\n",
    "        model,\n",
    "        train_data_loader,\n",
    "        optimizer,\n",
    "        criterion,\n",
    "        clip,\n",
    "        teacher_forcing_ratio,\n",
    "        device,\n",
    "    )\n",
    "\n",
    "    train_losses.append(train_loss)\n",
    "\n",
    "    valid_loss = evaluate_fn(\n",
    "        model,\n",
    "        valid_data_loader,\n",
    "        criterion,\n",
    "        device,\n",
    "    )\n",
    "\n",
    "    val_losses.append(valid_loss)\n",
    "\n",
    "    if valid_loss < best_valid_loss:\n",
    "        best_valid_loss = valid_loss\n",
    "        torch.save(model.state_dict(), os.path.join(model_dir, 'en_sl.pt'))\n",
    "\n",
    "    print(f\"\\tTrain Loss: {train_loss:7.3f}\")\n",
    "    print(f\"\\tValid Loss: {valid_loss:7.3f}\")\n"
   ]
  },
  {
   "cell_type": "code",
   "execution_count": 38,
   "metadata": {
    "execution": {
     "iopub.execute_input": "2024-12-11T14:27:08.472775Z",
     "iopub.status.busy": "2024-12-11T14:27:08.472502Z",
     "iopub.status.idle": "2024-12-11T14:27:08.744851Z",
     "shell.execute_reply": "2024-12-11T14:27:08.743990Z",
     "shell.execute_reply.started": "2024-12-11T14:27:08.472749Z"
    },
    "id": "P4ryj4RDe-8k",
    "outputId": "feeaeac4-16bb-45b0-8ee5-9372ec04ea08"
   },
   "outputs": [
    {
     "data": {
      "image/png": "[encoded data removed]",
      "text/plain": [
       "<Figure size 1000x500 with 1 Axes>"
      ]
     },
     "metadata": {},
     "output_type": "display_data"
    }
   ],
   "source": [
    "plt.figure(figsize=(10, 5))\n",
    "plt.plot(train_losses, label='Train Loss')\n",
    "plt.plot(val_losses, label='Val Loss')\n",
    "plt.xlabel('Epoch')\n",
    "plt.ylabel('Loss')\n",
    "plt.title('Training and Validation Loss')\n",
    "plt.legend()\n",
    "plt.show()"
   ]
  },
  {
   "cell_type": "code",
   "execution_count": 39,
   "metadata": {
    "execution": {
     "iopub.execute_input": "2024-12-11T14:27:08.746565Z",
     "iopub.status.busy": "2024-12-11T14:27:08.746177Z",
     "iopub.status.idle": "2024-12-11T14:27:08.755025Z",
     "shell.execute_reply": "2024-12-11T14:27:08.754106Z",
     "shell.execute_reply.started": "2024-12-11T14:27:08.746524Z"
    },
    "id": "93AYIJcee-8k"
   },
   "outputs": [],
   "source": [
    "def translate_sentence(\n",
    "    sentence,\n",
    "    model,\n",
    "    en_nlp,\n",
    "    de_nlp,\n",
    "    en_vocab,\n",
    "    de_vocab,\n",
    "    lower,\n",
    "    sos_token,\n",
    "    eos_token,\n",
    "    device,\n",
    "    max_output_length=25,\n",
    "):\n",
    "    model.eval()\n",
    "    with torch.no_grad():\n",
    "        if isinstance(sentence, str):\n",
    "            de_tokens = [token.text for token in de_nlp.tokenizer(sentence)]\n",
    "        else:\n",
    "            de_tokens = [token for token in sentence]\n",
    "        if lower:\n",
    "            de_tokens = [token.lower() for token in de_tokens]\n",
    "        de_tokens = [sos_token] + de_tokens + [eos_token]\n",
    "        ids = de_vocab.lookup_indices(de_tokens)\n",
    "        tensor = torch.LongTensor(ids).unsqueeze(-1).to(device)\n",
    "        encoder_outputs, hidden = model.encoder(tensor)\n",
    "        inputs = en_vocab.lookup_indices([sos_token])\n",
    "        attentions = torch.zeros(max_output_length, 1, len(ids))\n",
    "        for i in range(max_output_length):\n",
    "            inputs_tensor = torch.LongTensor([inputs[-1]]).to(device)\n",
    "            output, hidden, attention = model.decoder(inputs_tensor, hidden, encoder_outputs)\n",
    "            attentions[i] = attention\n",
    "            predicted_token = output.argmax(-1).item()\n",
    "            inputs.append(predicted_token)\n",
    "            if predicted_token == en_vocab[eos_token]:\n",
    "                break\n",
    "        en_tokens = en_vocab.lookup_tokens(inputs)\n",
    "    return en_tokens, de_tokens, attentions[:len(en_tokens)-1]"
   ]
  },
  {
   "cell_type": "code",
   "execution_count": 40,
   "metadata": {
    "execution": {
     "iopub.execute_input": "2024-12-11T14:27:08.756408Z",
     "iopub.status.busy": "2024-12-11T14:27:08.756094Z",
     "iopub.status.idle": "2024-12-11T14:27:08.769429Z",
     "shell.execute_reply": "2024-12-11T14:27:08.768511Z",
     "shell.execute_reply.started": "2024-12-11T14:27:08.756364Z"
    },
    "id": "WlUkRIfYe-8l"
   },
   "outputs": [],
   "source": [
    "def plot_attention(sentence, translation, attention):\n",
    "    fig, ax = plt.subplots(figsize=(10,10))\n",
    "    attention = attention.squeeze(1).numpy()\n",
    "    cax = ax.matshow(attention, cmap=\"bone\")\n",
    "    ax.set_xticks(ticks=np.arange(len(sentence)), labels=sentence, rotation=90, size=15)\n",
    "    translation = translation[1:]\n",
    "    ax.set_yticks(ticks=np.arange(len(translation)), labels=translation, size=15)\n",
    "    plt.show()\n",
    "    plt.close()"
   ]
  },
  {
   "cell_type": "code",
   "execution_count": 41,
   "metadata": {
    "execution": {
     "iopub.execute_input": "2024-12-11T14:27:08.770999Z",
     "iopub.status.busy": "2024-12-11T14:27:08.770678Z",
     "iopub.status.idle": "2024-12-11T14:27:08.782052Z",
     "shell.execute_reply": "2024-12-11T14:27:08.781243Z",
     "shell.execute_reply.started": "2024-12-11T14:27:08.770973Z"
    },
    "id": "P6Qd5QQUe-8l",
    "outputId": "05bcf295-a24c-4406-a222-eae758303a97"
   },
   "outputs": [
    {
     "data": {
      "text/plain": [
       "('Dezertifikacija se na svetovni ravni širi, kar vodi v revščino, prisilno preseljevanje in spore.',\n",
       " 'At a global level desertification is increasing, leading to poverty, forced migration and conflict.')"
      ]
     },
     "execution_count": 41,
     "metadata": {},
     "output_type": "execute_result"
    }
   ],
   "source": [
    "sentence = valid_dataset[0][\"sl\"]\n",
    "expected_translation = valid_dataset[0][\"en\"]\n",
    "\n",
    "sentence, expected_translation"
   ]
  },
  {
   "cell_type": "code",
   "execution_count": 44,
   "metadata": {
    "execution": {
     "iopub.execute_input": "2024-12-11T14:28:09.866553Z",
     "iopub.status.busy": "2024-12-11T14:28:09.866172Z",
     "iopub.status.idle": "2024-12-11T14:28:09.892979Z",
     "shell.execute_reply": "2024-12-11T14:28:09.892084Z",
     "shell.execute_reply.started": "2024-12-11T14:28:09.866520Z"
    },
    "id": "-IrHW6yve-8l",
    "outputId": "955f32fd-1d48-48ce-d3d4-2f85451918d6"
   },
   "outputs": [
    {
     "name": "stdout",
     "output_type": "stream",
     "text": [
      "['<sos>', 'desertification', 'is', 'internationally', 'at', 'global', 'global', ',', ',', 'which', 'is', ',', 'poverty', ',', 'conflict', 'and', 'conflict', 'and', 'conflict', '.', '<eos>']\n",
      "['<sos>', 'dezertifikacija', 'se', 'na', 'svetovni', 'ravni', 'širi', ',', 'kar', 'vodi', 'v', 'revščino', ',', 'prisilno', 'preseljevanje', 'in', 'spore', '.', '<eos>']\n"
     ]
    }
   ],
   "source": [
    "translation, sentence_tokens, attention = translate_sentence(\n",
    "    sentence,\n",
    "    model,\n",
    "    en_nlp,\n",
    "    sl_nlp,\n",
    "    en_vocab,\n",
    "    sl_vocab,\n",
    "    lower,\n",
    "    sos_token,\n",
    "    eos_token,\n",
    "    device,\n",
    ")\n",
    "\n",
    "print(translation)\n",
    "print(sentence_tokens)"
   ]
  },
  {
   "cell_type": "code",
   "execution_count": 45,
   "metadata": {
    "execution": {
     "iopub.execute_input": "2024-12-11T14:28:15.456970Z",
     "iopub.status.busy": "2024-12-11T14:28:15.456633Z",
     "iopub.status.idle": "2024-12-11T14:28:15.984293Z",
     "shell.execute_reply": "2024-12-11T14:28:15.983469Z",
     "shell.execute_reply.started": "2024-12-11T14:28:15.456941Z"
    },
    "id": "-E-49_T6e-8l",
    "outputId": "7d44ee2e-8e09-4407-e102-3488e324cff2"
   },
   "outputs": [
    {
     "data": {
      "image/png": "[encoded data removed]",
      "text/plain": [
       "<Figure size 1000x1000 with 1 Axes>"
      ]
     },
     "metadata": {},
     "output_type": "display_data"
    }
   ],
   "source": [
    "plot_attention(sentence_tokens, translation, attention)"
   ]
  },
  {
   "cell_type": "code",
   "execution_count": 46,
   "metadata": {
    "execution": {
     "iopub.execute_input": "2024-12-11T14:28:37.941764Z",
     "iopub.status.busy": "2024-12-11T14:28:37.941373Z",
     "iopub.status.idle": "2024-12-11T14:28:37.949954Z",
     "shell.execute_reply": "2024-12-11T14:28:37.949114Z",
     "shell.execute_reply.started": "2024-12-11T14:28:37.941733Z"
    },
    "id": "Sb5gk7M7e-8m",
    "outputId": "ae3b2e35-eb43-4f4f-ad91-dd7ceb2e8d0e"
   },
   "outputs": [
    {
     "data": {
      "text/plain": [
       "('Menim, da mora biti naša prednostna naloga, da odgovorimo na ti dve vprašanji, in če bi to storili, bi odkrili, da so bili izredni ukrepi pogosto napačni in da so bili seznami terorističnih organizacij nenatančni ter da so nanje vplivali politični motivi in ne resnična nevarnost teh organizacij.',\n",
       " 'I believe we should make it a priority to answer these two questions, and that if we did so we would discover that emergency measures have often been mistaken and that the lists of terrorist organisations have been imprecise, often dictated more by political motives than a real danger posed by the organisations.')"
      ]
     },
     "execution_count": 46,
     "metadata": {},
     "output_type": "execute_result"
    }
   ],
   "source": [
    "sentence = valid_dataset[45][\"sl\"]\n",
    "expected_translation = valid_dataset[45][\"en\"]\n",
    "\n",
    "sentence, expected_translation"
   ]
  },
  {
   "cell_type": "code",
   "execution_count": 47,
   "metadata": {
    "execution": {
     "iopub.execute_input": "2024-12-11T14:28:42.099123Z",
     "iopub.status.busy": "2024-12-11T14:28:42.098805Z",
     "iopub.status.idle": "2024-12-11T14:28:42.128494Z",
     "shell.execute_reply": "2024-12-11T14:28:42.127645Z",
     "shell.execute_reply.started": "2024-12-11T14:28:42.099097Z"
    },
    "id": "22ffN6gRe-8n",
    "outputId": "3f623709-3fe5-4671-c8dc-37b8a9c23f4c"
   },
   "outputs": [
    {
     "name": "stdout",
     "output_type": "stream",
     "text": [
      "['<sos>', 'i', 'think', 'that', 'priority', 'priority', 'should', 'be', '<unk>', 'on', 'issues', 'issues', 'and', ',', 'if', 'this', ',', 'and', ',', 'that', ',', 'that', 'the', 'measures', 'that', 'have']\n",
      "['<sos>', 'menim', ',', 'da', 'mora', 'biti', 'naša', 'prednostna', 'naloga', ',', 'da', 'odgovorimo', 'na', 'ti', 'dve', 'vprašanji', ',', 'in', 'če', 'bi', 'to', 'storili', ',', 'bi', 'odkrili', ',', 'da', 'so', 'bili', 'izredni', 'ukrepi', 'pogosto', 'napačni', 'in', 'da', 'so', 'bili', 'seznami', 'terorističnih', 'organizacij', 'nenatančni', 'ter', 'da', 'so', 'nanje', 'vplivali', 'politični', 'motivi', 'in', 'ne', 'resnična', 'nevarnost', 'teh', 'organizacij', '.', '<eos>']\n"
     ]
    }
   ],
   "source": [
    "translation, sentence_tokens, attention = translate_sentence(\n",
    "    sentence,\n",
    "    model,\n",
    "    en_nlp,\n",
    "    sl_nlp,\n",
    "    en_vocab,\n",
    "    sl_vocab,\n",
    "    lower,\n",
    "    sos_token,\n",
    "    eos_token,\n",
    "    device,\n",
    ")\n",
    "\n",
    "print(translation)\n",
    "print(sentence_tokens)"
   ]
  },
  {
   "cell_type": "code",
   "execution_count": 48,
   "metadata": {
    "execution": {
     "iopub.execute_input": "2024-12-11T14:28:48.957827Z",
     "iopub.status.busy": "2024-12-11T14:28:48.957477Z",
     "iopub.status.idle": "2024-12-11T14:28:49.598384Z",
     "shell.execute_reply": "2024-12-11T14:28:49.597546Z",
     "shell.execute_reply.started": "2024-12-11T14:28:48.957797Z"
    },
    "id": "ggNgAWtLe-8n",
    "outputId": "0f687a95-e4bc-41f7-c833-9d3ead332d0f"
   },
   "outputs": [
    {
     "data": {
      "image/png": "[encoded data removed]",
      "text/plain": [
       "<Figure size 1000x1000 with 1 Axes>"
      ]
     },
     "metadata": {},
     "output_type": "display_data"
    }
   ],
   "source": [
    "plot_attention(sentence_tokens, translation, attention)"
   ]
  },
  {
   "cell_type": "code",
   "execution_count": 50,
   "metadata": {
    "execution": {
     "iopub.execute_input": "2024-12-11T14:29:21.554817Z",
     "iopub.status.busy": "2024-12-11T14:29:21.554432Z",
     "iopub.status.idle": "2024-12-11T14:29:21.562871Z",
     "shell.execute_reply": "2024-12-11T14:29:21.562126Z",
     "shell.execute_reply.started": "2024-12-11T14:29:21.554788Z"
    },
    "id": "cwvBPd4Ge-8o",
    "outputId": "9ff14f7a-ad6d-43e8-bb31-70955b2fbc97"
   },
   "outputs": [
    {
     "data": {
      "text/plain": [
       "('Zelo pomemben predlog je večje sodelovanje nacionalnih parlamentov, da bi se boljše izrazila različna stališča držav članic in njenih državljanov.',\n",
       " 'More involvement of national parliaments to better reflect the diverse views of Member States and their citizens is a very important proposal.')"
      ]
     },
     "execution_count": 50,
     "metadata": {},
     "output_type": "execute_result"
    }
   ],
   "source": [
    "sentence = valid_dataset[101][\"sl\"]\n",
    "expected_translation = valid_dataset[101][\"en\"]\n",
    "\n",
    "sentence, expected_translation"
   ]
  },
  {
   "cell_type": "code",
   "execution_count": 52,
   "metadata": {
    "execution": {
     "iopub.execute_input": "2024-12-11T14:29:33.723750Z",
     "iopub.status.busy": "2024-12-11T14:29:33.723078Z",
     "iopub.status.idle": "2024-12-11T14:29:33.751215Z",
     "shell.execute_reply": "2024-12-11T14:29:33.750317Z",
     "shell.execute_reply.started": "2024-12-11T14:29:33.723715Z"
    },
    "id": "BZvMav_ae-8o",
    "outputId": "6dc5175c-ebb7-48e0-a454-5939b955066d"
   },
   "outputs": [
    {
     "name": "stdout",
     "output_type": "stream",
     "text": [
      "['<sos>', 'a', 'very', 'important', 'proposal', 'for', 'involvement', 'involvement', 'of', 'national', 'parliaments', ',', 'to', 'the', 'the', 'of', 'the', 'member', 'states', 'and', 'its', 'its', 'its', 'its', 'its', 'citizens']\n",
      "['<sos>', 'zelo', 'pomemben', 'predlog', 'je', 'večje', 'sodelovanje', 'nacionalnih', 'parlamentov', ',', 'da', 'bi', 'se', 'boljše', 'izrazila', 'različna', 'stališča', 'držav', 'članic', 'in', 'njenih', 'državljanov', '.', '<eos>']\n"
     ]
    }
   ],
   "source": [
    "translation, sentence_tokens, attention = translate_sentence(\n",
    "    sentence,\n",
    "    model,\n",
    "    en_nlp,\n",
    "    sl_nlp,\n",
    "    en_vocab,\n",
    "    sl_vocab,\n",
    "    lower,\n",
    "    sos_token,\n",
    "    eos_token,\n",
    "    device,\n",
    ")\n",
    "\n",
    "print(translation)\n",
    "print(sentence_tokens)"
   ]
  },
  {
   "cell_type": "code",
   "execution_count": 53,
   "metadata": {
    "execution": {
     "iopub.execute_input": "2024-12-11T14:29:36.914257Z",
     "iopub.status.busy": "2024-12-11T14:29:36.913915Z",
     "iopub.status.idle": "2024-12-11T14:29:37.483611Z",
     "shell.execute_reply": "2024-12-11T14:29:37.482777Z",
     "shell.execute_reply.started": "2024-12-11T14:29:36.914227Z"
    },
    "id": "y79zQa_4e-8p",
    "outputId": "08aab537-b4b8-4e8d-8af1-9e8e50a5a45e"
   },
   "outputs": [
    {
     "data": {
      "image/png": "[encoded data removed]",
      "text/plain": [
       "<Figure size 1000x1000 with 1 Axes>"
      ]
     },
     "metadata": {},
     "output_type": "display_data"
    }
   ],
   "source": [
    "plot_attention(sentence_tokens, translation, attention)"
   ]
  }
 ],
 "metadata": {
  "anaconda-cloud": {},
  "colab": {
   "provenance": []
  },
  "kaggle": {
   "accelerator": "gpu",
   "dataSources": [],
   "dockerImageVersionId": 30805,
   "isGpuEnabled": true,
   "isInternetEnabled": true,
   "language": "python",
   "sourceType": "notebook"
  },
  "kernelspec": {
   "display_name": "Python (dz_12)",
   "language": "python",
   "name": "dz_12"
  },
  "language_info": {
   "codemirror_mode": {
    "name": "ipython",
    "version": 3
   },
   "file_extension": ".py",
   "mimetype": "text/x-python",
   "name": "python",
   "nbconvert_exporter": "python",
   "pygments_lexer": "ipython3",
   "version": "3.10.16"
  }
 },
 "nbformat": 4,
 "nbformat_minor": 4
}
